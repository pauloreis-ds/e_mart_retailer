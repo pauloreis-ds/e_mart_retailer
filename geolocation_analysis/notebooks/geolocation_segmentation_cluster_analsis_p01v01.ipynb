{
 "cells": [
  {
   "cell_type": "markdown",
   "metadata": {},
   "source": [
    "## TO DO \n",
    "\n",
    "## ADJUST PERCENTAGE OF PROFIT"
   ]
  },
  {
   "cell_type": "markdown",
   "metadata": {
    "id": "H7P4B5R-lLXt"
   },
   "source": [
    "## Notebook objectives\n",
    "\n",
    "Classify Clusters in a Business sense and Exctract strategies to make more money out of them.\n"
   ]
  },
  {
   "cell_type": "markdown",
   "metadata": {
    "id": "-wGa8x7mlKPB"
   },
   "source": [
    "## Agenda\n",
    "\n",
    "[Business Context](#Business-Context)<br> \n",
    "&emsp;[Business Questions](#Business-Questions)<br>\n",
    "\n",
    "[Imports](#Imports)<br>\n",
    "&emsp;[Helper Functions and Classes](#Helper-Functions-and-Classes)<br>\n",
    "\n",
    "[Settings](#Settings)<br>\n",
    "\n",
    "[Loading Data](#Loading-Data)<br>\n",
    "&emsp;[df_clusters](#df_clusters)<br>\n",
    "&emsp;&emsp;[df_kmeans_clusters](#df_clusters)<br>\n",
    "&emsp;&emsp;[df_dbscan_clusters](#df_clusters)<br>\n",
    "&emsp;&emsp;[df_agglomerative_clustering](#df_clusters)<br>\n",
    "&emsp;[df_payments](#df_payments)<br>\n",
    "&emsp;[df_products](#df_products)<br>\n",
    "&emsp;[df_order_items](#df_order_items)<br>\n",
    "&emsp;[df_geolocations](#df_geolocations)<br>\n",
    "&emsp;[df_customers](#df_customers)<br>\n",
    "\n",
    "\n",
    "[Analytical Base Table](#Analytical-Base-Table)<br>\n",
    "&emsp;[ABT Metadata](#ABT-Metadata)<br>\n",
    "&emsp;[df_payment_abt](#df_payment_abt)<br>\n",
    "&emsp;[df_orders_abt](#df_orders_abt)<br>\n",
    "&emsp;[df_geolocation_abt](#df_geolocation_abt)<br>\n",
    "\n",
    "[Analysis](#Analysis)<br>\n",
    "&emsp;[K-Means](#K-Means)<br>\n",
    "&emsp;[DBScan](#DBScan)<br>\n",
    "&emsp;[AgglomerativeClustering](#AgglomerativeClustering)<br>\n",
    "\n",
    "[Final Clusters](#Final-Clusters)<br>\n",
    "\n"
   ]
  },
  {
   "cell_type": "markdown",
   "metadata": {
    "id": "4zkVFp7xk9b8"
   },
   "source": [
    "## Business Context\n",
    "\n",
    "E-Mart is a Chinese retailer that discovered the e-commerce as a way to sell to the entire world, rather than just to the population of their home city. The company has been growing without much worries, and now It wants to start using the data collected during its 4 years of e-commerce to keep growing and make more money.\n",
    "\n",
    "\n",
    "The company has been growing without much worries, and now It wants to start using the data collected during the years to keep growing and make more money.\n",
    "At first, the board of directors expects:\n",
    "\n",
    "- A Dashboard with KPIs to track their growth.\n",
    "<br>\n",
    "\n",
    "- Robust Data Analysis, as well as recommendation of actions. What's the actionable based on your analysis?\n",
    "<br>\n",
    "\n",
    "- **An Analysis on geolocation, a segmentation by sales, profit and more. They want insights to help increasing revenue.**\n",
    "<br>\n",
    "\n",
    "- Sales forecast for the next year, in order to enable strategic planning.\n",
    "\n",
    "\n",
    "\n",
    "### Business Questions\n",
    "\n",
    "**How can we group markets by geolocation and profit from it? What are their characteristics?**"
   ]
  },
  {
   "cell_type": "markdown",
   "metadata": {},
   "source": [
    "## Hypothesis\n",
    "\n",
    "\n",
    "Why are discounts so high in a cluster? Were they applied in the initial sales period to expand the brand and win customers?"
   ]
  },
  {
   "cell_type": "markdown",
   "metadata": {
    "id": "p7J6iq62lhUF"
   },
   "source": [
    "## Imports"
   ]
  },
  {
   "cell_type": "code",
   "execution_count": 1,
   "metadata": {
    "id": "h9kKmO7xkflt"
   },
   "outputs": [],
   "source": [
    "import pandas as pd\n",
    "import numpy as np\n",
    "import matplotlib.pyplot as plt\n",
    "import seaborn as sns"
   ]
  },
  {
   "cell_type": "markdown",
   "metadata": {},
   "source": [
    "### Helper Functions and Classes"
   ]
  },
  {
   "cell_type": "code",
   "execution_count": 123,
   "metadata": {},
   "outputs": [],
   "source": [
    "def get_snakecase_columns(df):\n",
    "    \"\"\"Sets column name to snake_case format\n",
    "    \n",
    "    df: pandas.DataFrame\n",
    "    \n",
    "    Return: map\n",
    "    \"\"\"\n",
    "    snakecase = lambda x: str(x).lower().replace(' ', '_').replace('-', '_')\n",
    "    return map(snakecase, df.columns)\n",
    "\n",
    "def date(str_date):\n",
    "    \"\"\"Apply pandas.to_datetime to argument converting it to datetime.\n",
    "        \n",
    "    \"\"\"\n",
    "    return pd.to_datetime(str_date)\n",
    "\n",
    "def find_column(df, col_name):\n",
    "    \"\"\"Checks if DataFrame contains a 'column name' and returns the matched columns\n",
    "    \n",
    "    df: pandas.DataFrame\n",
    "    col_name: column name or part of column name to search for\n",
    "    \n",
    "    Return: DataFrame with column names that match the col_name searched\n",
    "    \"\"\"\n",
    "    \n",
    "    df_cols = pd.DataFrame(df.columns, columns=['col_name'])\n",
    "\n",
    "    return df_cols[df_cols['col_name'].str.contains(col_name)].reset_index(drop=True)\n",
    "\n",
    "\n",
    "def fig(x=15, y=5, set_as_global=False, reset_to_default=False):\n",
    "    \"\"\" Adjust size of matplotlib figure\n",
    "\n",
    "    x: figure width.\n",
    "    y: figure height.\n",
    "    set_as_global: bool.\n",
    "        If True, then it sets \"x\" and \"y\" axis for all subsequent plots.\n",
    "    reset_to_default: bool.\n",
    "        If True, then it resets the global figure size back to default.\n",
    "    \"\"\"\n",
    "    if set_as_global:\n",
    "        plt.rcParams[\"figure.figsize\"] = (x, y)\n",
    "    elif reset_to_default:\n",
    "        plt.rcParams[\"figure.figsize\"] = plt.rcParamsDefault[\"figure.figsize\"]\n",
    "    else:\n",
    "        plt.figure(figsize=(x,y))\n",
    "        \n",
    "def cluster_stats(df, column, cluster='cluster', quantile_1=.8, quantile_2=.9):    \n",
    "    stats = df.groupby(cluster)[[column]].describe()[column]\n",
    "    quantiles = pd.concat([df.groupby(cluster)[[column]].quantile(quantile_1), df.groupby(cluster)[[column]].quantile(quantile_2)], axis=1)\n",
    "    quantile_1_name, quantile_2_name = f'{round(quantile_1*100)}%', f'{round(quantile_2*100)}%'\n",
    "    quantiles.columns = [quantile_1_name, quantile_2_name]\n",
    "    stats = pd.concat([stats, quantiles], axis=1)\n",
    "    return stats[['mean', 'std', 'min', '25%', '50%', '75%', quantile_1_name, quantile_2_name, 'max']]"
   ]
  },
  {
   "cell_type": "markdown",
   "metadata": {
    "id": "xmzyYyVxkgqX"
   },
   "source": [
    "### Settings"
   ]
  },
  {
   "cell_type": "code",
   "execution_count": 3,
   "metadata": {},
   "outputs": [],
   "source": [
    "pd.set_option('display.max_columns', 500)\n",
    "\n",
    "fig(12,4, set_as_global=True)"
   ]
  },
  {
   "cell_type": "markdown",
   "metadata": {
    "id": "-sDr2qgkl063"
   },
   "source": [
    "## Loading Data"
   ]
  },
  {
   "cell_type": "markdown",
   "metadata": {},
   "source": [
    "### df_clusters\n"
   ]
  },
  {
   "cell_type": "code",
   "execution_count": 21,
   "metadata": {},
   "outputs": [],
   "source": [
    "df_kmeans_clusters = pd.read_csv(\"../../data/country_clusters/kmeans_clusters.csv\")\n",
    "df_dbscan_clusters = pd.read_csv(\"../../data/country_clusters/dbscan_clusters.csv\")\n",
    "df_agglomerative_clustering = pd.read_csv(\"../../data/country_clusters/agglomerative_clustering.csv\")"
   ]
  },
  {
   "cell_type": "markdown",
   "metadata": {
    "id": "CFMsaUyUl4cj"
   },
   "source": [
    "### df_orders"
   ]
  },
  {
   "cell_type": "code",
   "execution_count": 4,
   "metadata": {
    "id": "oJtzM_til4sG"
   },
   "outputs": [],
   "source": [
    "df_orders = pd.read_csv(\"https://raw.githubusercontent.com/pauloreisdatascience/datasets/main/e_market/e_mart_orders_table.csv\")\n",
    "df_orders.columns = get_snakecase_columns(df_orders)\n",
    "\n",
    "df_orders['customer_id'] = df_orders['customer_id'].apply(lambda x: x[2:-2])\n",
    "df_orders['order_date'] = df_orders['order_date'].apply(date)\n",
    "df_orders['ship_date'] = df_orders['ship_date'].apply(date)\n",
    "df_orders['delivery_date'] = df_orders['delivery_date'].apply(date)\n",
    "df_orders['deadline_date'] = df_orders['deadline_date'].apply(date)\n",
    "df_orders['order_priority'] = df_orders['order_priority'].apply(lambda x: x[2:-2])\n",
    "df_orders = df_orders.assign(postal_code=df_orders['postal_code'].apply(lambda x: int(x[2:-2])))"
   ]
  },
  {
   "cell_type": "code",
   "execution_count": 5,
   "metadata": {},
   "outputs": [
    {
     "data": {
      "text/plain": [
       "0"
      ]
     },
     "execution_count": 5,
     "metadata": {},
     "output_type": "execute_result"
    }
   ],
   "source": [
    "df_orders.duplicated(subset=['order_id']).sum()"
   ]
  },
  {
   "cell_type": "markdown",
   "metadata": {},
   "source": [
    "### df_payments"
   ]
  },
  {
   "cell_type": "code",
   "execution_count": 6,
   "metadata": {},
   "outputs": [],
   "source": [
    "df_payments = pd.read_csv(\"https://raw.githubusercontent.com/pauloreisdatascience/datasets/main/e_market/e_mart_payment_table.csv\")\n",
    "df_payments.columns = get_snakecase_columns(df_payments)"
   ]
  },
  {
   "cell_type": "code",
   "execution_count": 7,
   "metadata": {},
   "outputs": [
    {
     "data": {
      "text/plain": [
       "0"
      ]
     },
     "execution_count": 7,
     "metadata": {},
     "output_type": "execute_result"
    }
   ],
   "source": [
    "df_payments.duplicated(subset=['order_id']).sum()"
   ]
  },
  {
   "cell_type": "markdown",
   "metadata": {},
   "source": [
    "### df_products"
   ]
  },
  {
   "cell_type": "code",
   "execution_count": 8,
   "metadata": {},
   "outputs": [],
   "source": [
    "df_products = pd.read_csv(\"https://raw.githubusercontent.com/pauloreisdatascience/datasets/main/e_market/e_mart_products_table.csv\")\n",
    "df_products.columns = get_snakecase_columns(df_products)"
   ]
  },
  {
   "cell_type": "code",
   "execution_count": 9,
   "metadata": {},
   "outputs": [
    {
     "data": {
      "text/plain": [
       "0"
      ]
     },
     "execution_count": 9,
     "metadata": {},
     "output_type": "execute_result"
    }
   ],
   "source": [
    "df_products.duplicated(subset=['product_id']).sum()"
   ]
  },
  {
   "cell_type": "markdown",
   "metadata": {},
   "source": [
    "### df_order_items"
   ]
  },
  {
   "cell_type": "code",
   "execution_count": 10,
   "metadata": {},
   "outputs": [],
   "source": [
    "df_order_items = pd.read_csv(\"https://raw.githubusercontent.com/pauloreisdatascience/datasets/main/e_market/e_mart_order_items_table.csv\")\n",
    "df_order_items.columns = get_snakecase_columns(df_order_items)"
   ]
  },
  {
   "cell_type": "code",
   "execution_count": 11,
   "metadata": {},
   "outputs": [
    {
     "data": {
      "text/plain": [
       "35"
      ]
     },
     "execution_count": 11,
     "metadata": {},
     "output_type": "execute_result"
    }
   ],
   "source": [
    "df_order_items.duplicated(subset=['order_item_id']).sum()"
   ]
  },
  {
   "cell_type": "markdown",
   "metadata": {},
   "source": [
    "### df_geolocations"
   ]
  },
  {
   "cell_type": "code",
   "execution_count": 12,
   "metadata": {},
   "outputs": [],
   "source": [
    "df_geolocations = pd.read_csv(\"https://raw.githubusercontent.com/pauloreisdatascience/datasets/main/e_market/e_mart_geolocation_table.csv\")\n",
    "df_geolocations.columns = get_snakecase_columns(df_geolocations)"
   ]
  },
  {
   "cell_type": "code",
   "execution_count": 13,
   "metadata": {},
   "outputs": [
    {
     "data": {
      "text/plain": [
       "0"
      ]
     },
     "execution_count": 13,
     "metadata": {},
     "output_type": "execute_result"
    }
   ],
   "source": [
    "df_geolocations.duplicated(subset=['postal_code']).sum()"
   ]
  },
  {
   "cell_type": "markdown",
   "metadata": {},
   "source": [
    "### df_customers"
   ]
  },
  {
   "cell_type": "code",
   "execution_count": 14,
   "metadata": {},
   "outputs": [],
   "source": [
    "df_customers = pd.read_csv(\"https://raw.githubusercontent.com/pauloreisdatascience/datasets/main/e_market/e_mart_customers_table.csv\")\n",
    "df_customers.columns = get_snakecase_columns(df_customers)"
   ]
  },
  {
   "cell_type": "code",
   "execution_count": 15,
   "metadata": {},
   "outputs": [
    {
     "data": {
      "text/plain": [
       "0"
      ]
     },
     "execution_count": 15,
     "metadata": {},
     "output_type": "execute_result"
    }
   ],
   "source": [
    "df_customers.duplicated(subset=['customer_id']).sum()"
   ]
  },
  {
   "cell_type": "markdown",
   "metadata": {},
   "source": [
    "## Analytical Base Table"
   ]
  },
  {
   "cell_type": "markdown",
   "metadata": {},
   "source": [
    "### ABT Metadata\n",
    "\n",
    "[df_orders_abt](#df_orders_abt)<br>\n",
    "\n"
   ]
  },
  {
   "cell_type": "markdown",
   "metadata": {},
   "source": [
    "### df_payment_abt"
   ]
  },
  {
   "cell_type": "code",
   "execution_count": 16,
   "metadata": {},
   "outputs": [
    {
     "data": {
      "text/html": [
       "<div>\n",
       "<style scoped>\n",
       "    .dataframe tbody tr th:only-of-type {\n",
       "        vertical-align: middle;\n",
       "    }\n",
       "\n",
       "    .dataframe tbody tr th {\n",
       "        vertical-align: top;\n",
       "    }\n",
       "\n",
       "    .dataframe thead th {\n",
       "        text-align: right;\n",
       "    }\n",
       "</style>\n",
       "<table border=\"1\" class=\"dataframe\">\n",
       "  <thead>\n",
       "    <tr style=\"text-align: right;\">\n",
       "      <th></th>\n",
       "      <th>n_products</th>\n",
       "      <th>total_discount</th>\n",
       "      <th>avg_discount</th>\n",
       "      <th>avg_product_price</th>\n",
       "      <th>shipping_cost</th>\n",
       "      <th>sales</th>\n",
       "      <th>max_product_price</th>\n",
       "      <th>min_product_price</th>\n",
       "    </tr>\n",
       "    <tr>\n",
       "      <th>order_id</th>\n",
       "      <th></th>\n",
       "      <th></th>\n",
       "      <th></th>\n",
       "      <th></th>\n",
       "      <th></th>\n",
       "      <th></th>\n",
       "      <th></th>\n",
       "      <th></th>\n",
       "    </tr>\n",
       "  </thead>\n",
       "  <tbody>\n",
       "    <tr>\n",
       "      <th>AE-2011-9160-PO-8865</th>\n",
       "      <td>8</td>\n",
       "      <td>1.4</td>\n",
       "      <td>0.7</td>\n",
       "      <td>110.775909</td>\n",
       "      <td>9.56</td>\n",
       "      <td>176.424976</td>\n",
       "      <td>193.273579</td>\n",
       "      <td>28.278238</td>\n",
       "    </tr>\n",
       "    <tr>\n",
       "      <th>AE-2013-1130-EB-4110</th>\n",
       "      <td>7</td>\n",
       "      <td>1.4</td>\n",
       "      <td>0.7</td>\n",
       "      <td>52.947440</td>\n",
       "      <td>60.18</td>\n",
       "      <td>242.152214</td>\n",
       "      <td>100.135833</td>\n",
       "      <td>5.759048</td>\n",
       "    </tr>\n",
       "  </tbody>\n",
       "</table>\n",
       "</div>"
      ],
      "text/plain": [
       "                      n_products  total_discount  avg_discount  \\\n",
       "order_id                                                         \n",
       "AE-2011-9160-PO-8865           8             1.4           0.7   \n",
       "AE-2013-1130-EB-4110           7             1.4           0.7   \n",
       "\n",
       "                      avg_product_price  shipping_cost       sales  \\\n",
       "order_id                                                             \n",
       "AE-2011-9160-PO-8865         110.775909           9.56  176.424976   \n",
       "AE-2013-1130-EB-4110          52.947440          60.18  242.152214   \n",
       "\n",
       "                      max_product_price  min_product_price  \n",
       "order_id                                                    \n",
       "AE-2011-9160-PO-8865         193.273579          28.278238  \n",
       "AE-2013-1130-EB-4110         100.135833           5.759048  "
      ]
     },
     "execution_count": 16,
     "metadata": {},
     "output_type": "execute_result"
    }
   ],
   "source": [
    "df_payment_abt = df_order_items.merge(df_products, how='left', on=['product_id'])\n",
    "\n",
    "df_payment_abt['sales'] = (\n",
    "    (df_payment_abt['quantity']*df_payment_abt['product_price'] *(1-df_payment_abt['discount']))\n",
    "    + df_payment_abt['shipping_cost']\n",
    ")\n",
    "\n",
    "cols = ['order_item_id', 'order_id', 'product_id',\n",
    "        'quantity', 'product_price', 'discount',\n",
    "        'shipping_cost', 'sales']\n",
    "df_payment_abt = df_payment_abt[cols]\n",
    "\n",
    "\n",
    "df_payment_abt = (\n",
    "    df_payment_abt.groupby('order_id')\n",
    "                    .agg(n_products=('quantity', 'sum'),\n",
    "                         total_discount=('discount', 'sum'),\n",
    "                         avg_discount=('discount', 'mean'),\n",
    "                         avg_product_price=('product_price', 'mean'),\n",
    "                         shipping_cost=('shipping_cost', 'sum'),\n",
    "                         sales=('sales', 'sum'),\n",
    "                         max_product_price=('product_price', 'max'),\n",
    "                         min_product_price=('product_price', 'min')\n",
    "                        )\n",
    ")\n",
    "\n",
    "# Check if Payment and Sales are equal\n",
    "# df_payment_abt = df_payment_abt.merge(df_payments.rename(columns={'sales':'payment'}),\n",
    "#                                       how='left', on=['order_id'])\n",
    "\n",
    "df_payment_abt.head(2)"
   ]
  },
  {
   "cell_type": "markdown",
   "metadata": {},
   "source": [
    "### df_orders_abt\n"
   ]
  },
  {
   "cell_type": "code",
   "execution_count": 24,
   "metadata": {
    "scrolled": false
   },
   "outputs": [
    {
     "data": {
      "text/html": [
       "<div>\n",
       "<style scoped>\n",
       "    .dataframe tbody tr th:only-of-type {\n",
       "        vertical-align: middle;\n",
       "    }\n",
       "\n",
       "    .dataframe tbody tr th {\n",
       "        vertical-align: top;\n",
       "    }\n",
       "\n",
       "    .dataframe thead th {\n",
       "        text-align: right;\n",
       "    }\n",
       "</style>\n",
       "<table border=\"1\" class=\"dataframe\">\n",
       "  <thead>\n",
       "    <tr style=\"text-align: right;\">\n",
       "      <th></th>\n",
       "      <th>order_id</th>\n",
       "      <th>customer_id</th>\n",
       "      <th>order_date</th>\n",
       "      <th>ship_date</th>\n",
       "      <th>delivery_date</th>\n",
       "      <th>ship_mode</th>\n",
       "      <th>postal_code</th>\n",
       "      <th>market</th>\n",
       "      <th>order_priority</th>\n",
       "      <th>deadline_date</th>\n",
       "      <th>order_status</th>\n",
       "      <th>region</th>\n",
       "      <th>country</th>\n",
       "      <th>state</th>\n",
       "      <th>city</th>\n",
       "      <th>customer_name</th>\n",
       "      <th>segment</th>\n",
       "      <th>sales</th>\n",
       "      <th>profit</th>\n",
       "      <th>order_date_monthly</th>\n",
       "      <th>market_region</th>\n",
       "      <th>delivery_time</th>\n",
       "      <th>expected_delivery_time</th>\n",
       "      <th>days_to_ship</th>\n",
       "      <th>delayed_days</th>\n",
       "      <th>delivery_on_time</th>\n",
       "      <th>profitable</th>\n",
       "      <th>n_products</th>\n",
       "      <th>total_discount</th>\n",
       "      <th>avg_discount</th>\n",
       "      <th>avg_product_price</th>\n",
       "      <th>shipping_cost</th>\n",
       "      <th>max_product_price</th>\n",
       "      <th>min_product_price</th>\n",
       "    </tr>\n",
       "  </thead>\n",
       "  <tbody>\n",
       "    <tr>\n",
       "      <th>0</th>\n",
       "      <td>AE-2011-9160-PO-8865</td>\n",
       "      <td>PO-8865</td>\n",
       "      <td>2019-03-10</td>\n",
       "      <td>2019-03-29</td>\n",
       "      <td>2019-04-01</td>\n",
       "      <td>Standard Class</td>\n",
       "      <td>5137041</td>\n",
       "      <td>EMEA</td>\n",
       "      <td>Medium</td>\n",
       "      <td>2019-04-19</td>\n",
       "      <td>Delivered</td>\n",
       "      <td>EMEA</td>\n",
       "      <td>United Arab Emirates</td>\n",
       "      <td>'Ajman</td>\n",
       "      <td>Ajman</td>\n",
       "      <td>Patrick O'Donnell</td>\n",
       "      <td>Consumer</td>\n",
       "      <td>176.424976</td>\n",
       "      <td>-246.078</td>\n",
       "      <td>2019-03</td>\n",
       "      <td>EMEA | EMEA</td>\n",
       "      <td>22.0</td>\n",
       "      <td>40</td>\n",
       "      <td>19.0</td>\n",
       "      <td>-18.0</td>\n",
       "      <td>True</td>\n",
       "      <td>False</td>\n",
       "      <td>8</td>\n",
       "      <td>1.4</td>\n",
       "      <td>0.7</td>\n",
       "      <td>110.775909</td>\n",
       "      <td>9.56</td>\n",
       "      <td>193.273579</td>\n",
       "      <td>28.278238</td>\n",
       "    </tr>\n",
       "    <tr>\n",
       "      <th>1</th>\n",
       "      <td>AE-2013-1130-EB-4110</td>\n",
       "      <td>EB-4110</td>\n",
       "      <td>2021-10-14</td>\n",
       "      <td>2021-10-14</td>\n",
       "      <td>2021-10-23</td>\n",
       "      <td>Same Day</td>\n",
       "      <td>51378252664</td>\n",
       "      <td>EMEA</td>\n",
       "      <td>High</td>\n",
       "      <td>2021-11-23</td>\n",
       "      <td>Delivered</td>\n",
       "      <td>EMEA</td>\n",
       "      <td>United Arab Emirates</td>\n",
       "      <td>Ra's Al Khaymah</td>\n",
       "      <td>Ras al Khaymah</td>\n",
       "      <td>Eugene Barchas</td>\n",
       "      <td>Consumer</td>\n",
       "      <td>242.152214</td>\n",
       "      <td>-236.964</td>\n",
       "      <td>2021-10</td>\n",
       "      <td>EMEA | EMEA</td>\n",
       "      <td>9.0</td>\n",
       "      <td>40</td>\n",
       "      <td>0.0</td>\n",
       "      <td>-31.0</td>\n",
       "      <td>True</td>\n",
       "      <td>False</td>\n",
       "      <td>7</td>\n",
       "      <td>1.4</td>\n",
       "      <td>0.7</td>\n",
       "      <td>52.947440</td>\n",
       "      <td>60.18</td>\n",
       "      <td>100.135833</td>\n",
       "      <td>5.759048</td>\n",
       "    </tr>\n",
       "  </tbody>\n",
       "</table>\n",
       "</div>"
      ],
      "text/plain": [
       "               order_id customer_id order_date  ship_date delivery_date  \\\n",
       "0  AE-2011-9160-PO-8865     PO-8865 2019-03-10 2019-03-29    2019-04-01   \n",
       "1  AE-2013-1130-EB-4110     EB-4110 2021-10-14 2021-10-14    2021-10-23   \n",
       "\n",
       "        ship_mode  postal_code market order_priority deadline_date  \\\n",
       "0  Standard Class      5137041   EMEA         Medium    2019-04-19   \n",
       "1        Same Day  51378252664   EMEA           High    2021-11-23   \n",
       "\n",
       "  order_status region               country            state            city  \\\n",
       "0    Delivered   EMEA  United Arab Emirates           'Ajman           Ajman   \n",
       "1    Delivered   EMEA  United Arab Emirates  Ra's Al Khaymah  Ras al Khaymah   \n",
       "\n",
       "       customer_name   segment       sales   profit order_date_monthly  \\\n",
       "0  Patrick O'Donnell  Consumer  176.424976 -246.078            2019-03   \n",
       "1     Eugene Barchas  Consumer  242.152214 -236.964            2021-10   \n",
       "\n",
       "  market_region  delivery_time  expected_delivery_time  days_to_ship  \\\n",
       "0   EMEA | EMEA           22.0                      40          19.0   \n",
       "1   EMEA | EMEA            9.0                      40           0.0   \n",
       "\n",
       "   delayed_days  delivery_on_time  profitable  n_products  total_discount  \\\n",
       "0         -18.0              True       False           8             1.4   \n",
       "1         -31.0              True       False           7             1.4   \n",
       "\n",
       "   avg_discount  avg_product_price  shipping_cost  max_product_price  \\\n",
       "0           0.7         110.775909           9.56         193.273579   \n",
       "1           0.7          52.947440          60.18         100.135833   \n",
       "\n",
       "   min_product_price  \n",
       "0          28.278238  \n",
       "1           5.759048  "
      ]
     },
     "execution_count": 24,
     "metadata": {},
     "output_type": "execute_result"
    }
   ],
   "source": [
    "df_orders_abt = (df_orders\n",
    "         .merge(df_geolocations, how='left', on='postal_code')\n",
    "         .merge(df_customers, how='left', on='customer_id')\n",
    "         .merge(df_payments, how='left', on=['order_id'])\n",
    ")\n",
    "\n",
    "df_orders_abt['order_date_monthly'] = df_orders_abt['order_date'].dt.to_period(\"M\")#.dt.to_timestamp(freq='M')\n",
    "df_orders_abt['market_region'] = df_orders_abt['market'] +\" | \" + df_orders_abt['region']\n",
    "df_orders_abt['delivery_time'] = (df_orders_abt['delivery_date'] - df_orders_abt['order_date']).dt.days\n",
    "df_orders_abt['expected_delivery_time'] = (df_orders_abt['deadline_date'] - df_orders_abt['order_date']).dt.days\n",
    "df_orders_abt['days_to_ship'] = (df_orders_abt['ship_date'] - df_orders_abt['order_date']).dt.days\n",
    "df_orders_abt['delayed_days'] = df_orders_abt['delivery_time'] - df_orders_abt['expected_delivery_time']\n",
    "df_orders_abt['delivery_on_time'] = df_orders_abt['delayed_days'].apply(lambda x: True if x <= 0\n",
    "                                                                        else False)\n",
    "df_orders_abt['profitable'] = df_orders_abt['profit'].apply(lambda x: True if x>0 else False)\n",
    "\n",
    "df_orders_abt = df_orders_abt.merge(df_payment_abt.drop(columns=['sales']),\n",
    "                                    how='left', on=['order_id'])\n",
    "\n",
    "df_orders_abt.head(2)"
   ]
  },
  {
   "cell_type": "code",
   "execution_count": 25,
   "metadata": {},
   "outputs": [],
   "source": [
    "# df_orders_abt.to_csv(\"../../data/growth_analysis/orders_abt.csv\")"
   ]
  },
  {
   "cell_type": "markdown",
   "metadata": {},
   "source": [
    "### df_geolocation_abt"
   ]
  },
  {
   "cell_type": "code",
   "execution_count": 29,
   "metadata": {},
   "outputs": [],
   "source": [
    "df_geolocation_abt = pd.read_csv(\"../../data/country_clusters/countries_abt.csv\")"
   ]
  },
  {
   "cell_type": "markdown",
   "metadata": {},
   "source": [
    "## Analysis\n",
    "\n",
    "\n",
    "    Columns to Analyse:\n",
    "    \n",
    "            profitable_rate\n",
    "        Sales:\n",
    "            avg_sales, avg_profit, avg_discount, avg_product_price, avg_shipping_cost\n",
    "        Quantity:\n",
    "            n_orders, n_products, avg_products_per_order\n",
    "        Delivery:\n",
    "            avg_delivery_time, avg_days_to_ship, avg_delayed_days, delivery_on_time, on_time_rate"
   ]
  },
  {
   "cell_type": "markdown",
   "metadata": {},
   "source": [
    "### K-Means\n",
    "\n",
    "Initial Cluster Segment Analysis \n",
    "\n",
    "    Cluster 0 (Profitable Performance):\n",
    "        Positive Profit\n",
    "        No Discounts\n",
    "    \n",
    "    Cluster 1 (Bad Performance):\n",
    "        Negative Profit\n",
    "        Higher Discounts\n",
    "    \n",
    "    Cluster 2 (Extraordinary Performance):\n",
    "        Positive Profit\n",
    "        Higher Average Sales\n",
    "        Lower Discounts\n",
    "        Higher Shipping Cost\n",
    "        Higher Quantity of Sold Products \n",
    "        Higher Number of Orders\n",
    "        \n",
    "        \n",
    "**Final Group Characteristics**\n",
    "\n",
    "    Extraordinary Performance:\n",
    "        11 countries with \n",
    "            55% of Total Revenue\n",
    "            79% of Total Profit\n",
    "            57% of Total Number of Orders\n",
    "            and 62% of all Sold Products \n",
    "            \n",
    "            Some level of discount (up to 22%)\n",
    "            Higher Average Shipping cost Charged to Customers (62)\n",
    "            Higher NUmber of Orders (Average of 1351 per Country)\n",
    "            More Cross-Selling (Average Number of Products per Order 7)\n",
    "            Higher Average Ticket (6262)\n",
    "    \n",
    "    Profitable Performance:\n",
    "        107 countries with \n",
    "            32% of Total Revenue\n",
    "            51% of Total Profit\n",
    "            27%% of Total Number of Orders\n",
    "            and 22% of all Sold Products \n",
    "            \n",
    "            Lower Discounts (up to 3%)\n",
    "            Average Shipping cost (59)\n",
    "            Average Number of Orders per country (65)\n",
    "            Average Number of Products per Order (5)\n",
    "            Average Ticket (3986)\n",
    "        \n",
    "    Bad Performance:\n",
    "        29 countries with\n",
    "            Higher Discounts (23% up to 70%)\n",
    "            Negative Profit (average of -135)\n",
    "            Lower Average Shipping cost Charged to Customers (31)\n",
    "            \n",
    "            Average Number of Orders per country (135)\n",
    "            Average Ticket (2924)"
   ]
  },
  {
   "cell_type": "code",
   "execution_count": 130,
   "metadata": {},
   "outputs": [
    {
     "data": {
      "text/plain": [
       "Profitable Performance       107\n",
       "Bad Performance               29\n",
       "Extraordinary Performance     11\n",
       "Name: cluster, dtype: int64"
      ]
     },
     "execution_count": 130,
     "metadata": {},
     "output_type": "execute_result"
    }
   ],
   "source": [
    "df_aux = df_geolocation_abt.merge(df_kmeans_clusters, how='left', on='country')\n",
    "\n",
    "df_aux['cluster'] = df_aux['cluster'].map(\n",
    "        {0:'Profitable Performance',\n",
    "         1:'Bad Performance',\n",
    "         2:'Extraordinary Performance',}\n",
    "    )\n",
    "df_aux['cluster'] = pd.Categorical(df_aux['cluster'], [\"Bad Performance\", \"Profitable Performance\", \"Extraordinary Performance\"])\n",
    "\n",
    "df_aux['cluster'].value_counts()"
   ]
  },
  {
   "cell_type": "code",
   "execution_count": 119,
   "metadata": {},
   "outputs": [
    {
     "data": {
      "text/html": [
       "<div>\n",
       "<style scoped>\n",
       "    .dataframe tbody tr th:only-of-type {\n",
       "        vertical-align: middle;\n",
       "    }\n",
       "\n",
       "    .dataframe tbody tr th {\n",
       "        vertical-align: top;\n",
       "    }\n",
       "\n",
       "    .dataframe thead th {\n",
       "        text-align: right;\n",
       "    }\n",
       "</style>\n",
       "<table border=\"1\" class=\"dataframe\">\n",
       "  <thead>\n",
       "    <tr style=\"text-align: right;\">\n",
       "      <th></th>\n",
       "      <th>total_sales</th>\n",
       "      <th>total_profit</th>\n",
       "      <th>n_orders</th>\n",
       "      <th>n_products</th>\n",
       "    </tr>\n",
       "    <tr>\n",
       "      <th>cluster</th>\n",
       "      <th></th>\n",
       "      <th></th>\n",
       "      <th></th>\n",
       "      <th></th>\n",
       "    </tr>\n",
       "  </thead>\n",
       "  <tbody>\n",
       "    <tr>\n",
       "      <th>Extraordinary Performance</th>\n",
       "      <td>76546977.42</td>\n",
       "      <td>1166657.38</td>\n",
       "      <td>14861</td>\n",
       "      <td>111617</td>\n",
       "    </tr>\n",
       "    <tr>\n",
       "      <th>Profitable Performance</th>\n",
       "      <td>44679286.06</td>\n",
       "      <td>748699.58</td>\n",
       "      <td>6977</td>\n",
       "      <td>40652</td>\n",
       "    </tr>\n",
       "    <tr>\n",
       "      <th>Bad Performance</th>\n",
       "      <td>16390928.55</td>\n",
       "      <td>-447899.67</td>\n",
       "      <td>3915</td>\n",
       "      <td>26043</td>\n",
       "    </tr>\n",
       "  </tbody>\n",
       "</table>\n",
       "</div>"
      ],
      "text/plain": [
       "                           total_sales  total_profit  n_orders  n_products\n",
       "cluster                                                                   \n",
       "Extraordinary Performance  76546977.42    1166657.38     14861      111617\n",
       "Profitable Performance     44679286.06     748699.58      6977       40652\n",
       "Bad Performance            16390928.55    -447899.67      3915       26043"
      ]
     },
     "execution_count": 119,
     "metadata": {},
     "output_type": "execute_result"
    }
   ],
   "source": [
    "cols = ['total_sales', 'total_profit', 'n_orders', 'n_products',]\n",
    "df_aux.groupby(\"cluster\")[cols].sum().sort_values(\"cluster\", ascending=False).round(2)"
   ]
  },
  {
   "cell_type": "code",
   "execution_count": 120,
   "metadata": {},
   "outputs": [
    {
     "data": {
      "text/plain": [
       "total_sales     137617192\n",
       "total_profit      1467457\n",
       "n_orders            25753\n",
       "n_products         178312\n",
       "dtype: int32"
      ]
     },
     "execution_count": 120,
     "metadata": {},
     "output_type": "execute_result"
    }
   ],
   "source": [
    "df_aux.groupby(\"cluster\")[cols].sum().sum().astype(int)"
   ]
  },
  {
   "cell_type": "code",
   "execution_count": 121,
   "metadata": {},
   "outputs": [
    {
     "data": {
      "text/html": [
       "<div>\n",
       "<style scoped>\n",
       "    .dataframe tbody tr th:only-of-type {\n",
       "        vertical-align: middle;\n",
       "    }\n",
       "\n",
       "    .dataframe tbody tr th {\n",
       "        vertical-align: top;\n",
       "    }\n",
       "\n",
       "    .dataframe thead th {\n",
       "        text-align: right;\n",
       "    }\n",
       "</style>\n",
       "<table border=\"1\" class=\"dataframe\">\n",
       "  <thead>\n",
       "    <tr style=\"text-align: right;\">\n",
       "      <th></th>\n",
       "      <th>profitable_rate</th>\n",
       "      <th>avg_sales</th>\n",
       "      <th>avg_profit</th>\n",
       "      <th>avg_discount</th>\n",
       "      <th>avg_product_price</th>\n",
       "      <th>avg_shipping_cost</th>\n",
       "      <th>n_orders</th>\n",
       "      <th>n_products</th>\n",
       "      <th>avg_products_per_order</th>\n",
       "      <th>avg_delivery_time</th>\n",
       "      <th>avg_days_to_ship</th>\n",
       "      <th>avg_delayed_days</th>\n",
       "      <th>delivery_on_time</th>\n",
       "      <th>on_time_rate</th>\n",
       "    </tr>\n",
       "    <tr>\n",
       "      <th>cluster</th>\n",
       "      <th></th>\n",
       "      <th></th>\n",
       "      <th></th>\n",
       "      <th></th>\n",
       "      <th></th>\n",
       "      <th></th>\n",
       "      <th></th>\n",
       "      <th></th>\n",
       "      <th></th>\n",
       "      <th></th>\n",
       "      <th></th>\n",
       "      <th></th>\n",
       "      <th></th>\n",
       "      <th></th>\n",
       "    </tr>\n",
       "  </thead>\n",
       "  <tbody>\n",
       "    <tr>\n",
       "      <th>Extraordinary Performance</th>\n",
       "      <td>0.798515</td>\n",
       "      <td>6262.590770</td>\n",
       "      <td>85.582126</td>\n",
       "      <td>0.106523</td>\n",
       "      <td>864.272209</td>\n",
       "      <td>62.577990</td>\n",
       "      <td>1351.000000</td>\n",
       "      <td>10147.000000</td>\n",
       "      <td>7.492970</td>\n",
       "      <td>18.744547</td>\n",
       "      <td>13.693868</td>\n",
       "      <td>-21.255453</td>\n",
       "      <td>1224.636364</td>\n",
       "      <td>0.905487</td>\n",
       "    </tr>\n",
       "    <tr>\n",
       "      <th>Profitable Performance</th>\n",
       "      <td>0.982469</td>\n",
       "      <td>3986.164671</td>\n",
       "      <td>117.966270</td>\n",
       "      <td>0.005051</td>\n",
       "      <td>562.333598</td>\n",
       "      <td>59.462045</td>\n",
       "      <td>65.205607</td>\n",
       "      <td>379.925234</td>\n",
       "      <td>5.708846</td>\n",
       "      <td>18.502917</td>\n",
       "      <td>13.536394</td>\n",
       "      <td>-21.497083</td>\n",
       "      <td>59.158879</td>\n",
       "      <td>0.917419</td>\n",
       "    </tr>\n",
       "    <tr>\n",
       "      <th>Bad Performance</th>\n",
       "      <td>0.112196</td>\n",
       "      <td>2924.094839</td>\n",
       "      <td>-135.469907</td>\n",
       "      <td>0.505343</td>\n",
       "      <td>674.590157</td>\n",
       "      <td>31.339149</td>\n",
       "      <td>135.000000</td>\n",
       "      <td>898.034483</td>\n",
       "      <td>6.866929</td>\n",
       "      <td>18.770639</td>\n",
       "      <td>13.531202</td>\n",
       "      <td>-21.229361</td>\n",
       "      <td>123.206897</td>\n",
       "      <td>0.901590</td>\n",
       "    </tr>\n",
       "  </tbody>\n",
       "</table>\n",
       "</div>"
      ],
      "text/plain": [
       "                           profitable_rate    avg_sales  avg_profit  \\\n",
       "cluster                                                               \n",
       "Extraordinary Performance         0.798515  6262.590770   85.582126   \n",
       "Profitable Performance            0.982469  3986.164671  117.966270   \n",
       "Bad Performance                   0.112196  2924.094839 -135.469907   \n",
       "\n",
       "                           avg_discount  avg_product_price  avg_shipping_cost  \\\n",
       "cluster                                                                         \n",
       "Extraordinary Performance      0.106523         864.272209          62.577990   \n",
       "Profitable Performance         0.005051         562.333598          59.462045   \n",
       "Bad Performance                0.505343         674.590157          31.339149   \n",
       "\n",
       "                              n_orders    n_products  avg_products_per_order  \\\n",
       "cluster                                                                        \n",
       "Extraordinary Performance  1351.000000  10147.000000                7.492970   \n",
       "Profitable Performance       65.205607    379.925234                5.708846   \n",
       "Bad Performance             135.000000    898.034483                6.866929   \n",
       "\n",
       "                           avg_delivery_time  avg_days_to_ship  \\\n",
       "cluster                                                          \n",
       "Extraordinary Performance          18.744547         13.693868   \n",
       "Profitable Performance             18.502917         13.536394   \n",
       "Bad Performance                    18.770639         13.531202   \n",
       "\n",
       "                           avg_delayed_days  delivery_on_time  on_time_rate  \n",
       "cluster                                                                      \n",
       "Extraordinary Performance        -21.255453       1224.636364      0.905487  \n",
       "Profitable Performance           -21.497083         59.158879      0.917419  \n",
       "Bad Performance                  -21.229361        123.206897      0.901590  "
      ]
     },
     "execution_count": 121,
     "metadata": {},
     "output_type": "execute_result"
    }
   ],
   "source": [
    "cols = ['profitable_rate', 'avg_sales', 'avg_profit', 'avg_discount', 'avg_product_price', 'avg_shipping_cost',\n",
    "'n_orders', 'n_products', 'avg_products_per_order', 'avg_delivery_time', 'avg_days_to_ship', 'avg_delayed_days', 'delivery_on_time', 'on_time_rate']\n",
    "\n",
    "df_aux.groupby(\"cluster\")[cols].mean().sort_values(\"cluster\", ascending=False)"
   ]
  },
  {
   "cell_type": "code",
   "execution_count": 127,
   "metadata": {},
   "outputs": [
    {
     "data": {
      "text/html": [
       "<div>\n",
       "<style scoped>\n",
       "    .dataframe tbody tr th:only-of-type {\n",
       "        vertical-align: middle;\n",
       "    }\n",
       "\n",
       "    .dataframe tbody tr th {\n",
       "        vertical-align: top;\n",
       "    }\n",
       "\n",
       "    .dataframe thead th {\n",
       "        text-align: right;\n",
       "    }\n",
       "</style>\n",
       "<table border=\"1\" class=\"dataframe\">\n",
       "  <thead>\n",
       "    <tr style=\"text-align: right;\">\n",
       "      <th></th>\n",
       "      <th>mean</th>\n",
       "      <th>std</th>\n",
       "      <th>min</th>\n",
       "      <th>25%</th>\n",
       "      <th>50%</th>\n",
       "      <th>75%</th>\n",
       "      <th>80%</th>\n",
       "      <th>95%</th>\n",
       "      <th>max</th>\n",
       "    </tr>\n",
       "    <tr>\n",
       "      <th>cluster</th>\n",
       "      <th></th>\n",
       "      <th></th>\n",
       "      <th></th>\n",
       "      <th></th>\n",
       "      <th></th>\n",
       "      <th></th>\n",
       "      <th></th>\n",
       "      <th></th>\n",
       "      <th></th>\n",
       "    </tr>\n",
       "  </thead>\n",
       "  <tbody>\n",
       "    <tr>\n",
       "      <th>Extraordinary Performance</th>\n",
       "      <td>0.106523</td>\n",
       "      <td>0.080441</td>\n",
       "      <td>0.018279</td>\n",
       "      <td>0.060738</td>\n",
       "      <td>0.070584</td>\n",
       "      <td>0.146016</td>\n",
       "      <td>0.148744</td>\n",
       "      <td>0.227213</td>\n",
       "      <td>0.297613</td>\n",
       "    </tr>\n",
       "    <tr>\n",
       "      <th>Profitable Performance</th>\n",
       "      <td>0.005051</td>\n",
       "      <td>0.022621</td>\n",
       "      <td>0.000000</td>\n",
       "      <td>0.000000</td>\n",
       "      <td>0.000000</td>\n",
       "      <td>0.000000</td>\n",
       "      <td>0.000000</td>\n",
       "      <td>0.030504</td>\n",
       "      <td>0.176508</td>\n",
       "    </tr>\n",
       "    <tr>\n",
       "      <th>Bad Performance</th>\n",
       "      <td>0.505343</td>\n",
       "      <td>0.154859</td>\n",
       "      <td>0.234884</td>\n",
       "      <td>0.407650</td>\n",
       "      <td>0.486848</td>\n",
       "      <td>0.700000</td>\n",
       "      <td>0.700000</td>\n",
       "      <td>0.700000</td>\n",
       "      <td>0.700000</td>\n",
       "    </tr>\n",
       "  </tbody>\n",
       "</table>\n",
       "</div>"
      ],
      "text/plain": [
       "                               mean       std       min       25%       50%  \\\n",
       "cluster                                                                       \n",
       "Extraordinary Performance  0.106523  0.080441  0.018279  0.060738  0.070584   \n",
       "Profitable Performance     0.005051  0.022621  0.000000  0.000000  0.000000   \n",
       "Bad Performance            0.505343  0.154859  0.234884  0.407650  0.486848   \n",
       "\n",
       "                                75%       80%       95%       max  \n",
       "cluster                                                            \n",
       "Extraordinary Performance  0.146016  0.148744  0.227213  0.297613  \n",
       "Profitable Performance     0.000000  0.000000  0.030504  0.176508  \n",
       "Bad Performance            0.700000  0.700000  0.700000  0.700000  "
      ]
     },
     "execution_count": 127,
     "metadata": {},
     "output_type": "execute_result"
    }
   ],
   "source": [
    "cluster_stats(df_aux, 'avg_discount', quantile_2=.95).sort_values(\"cluster\", ascending=False)"
   ]
  },
  {
   "cell_type": "markdown",
   "metadata": {},
   "source": [
    "### DBScan\n",
    "\n",
    "Initial Cluster Segment Analysis \n",
    "\n",
    "\n",
    "    Cluster -1 (Profitable Performance):\n",
    "        Positive and Negative Profit\n",
    "        Some Level of Discount\n",
    "        Higher Number of Sold Products \n",
    "        Higher Number of Orders \n",
    "    \n",
    "    Cluster 0 (High Margins):\n",
    "        Positive Profit\n",
    "        No Discounts\n",
    "    \n",
    "    Cluster 1 (Bad Performance):\n",
    "        Negative Profit\n",
    "        Higher Discounts\n",
    "        \n",
    "**Final Group Characteristics**\n",
    "\n",
    "    High Margins: (Sales Focused on Profit)\n",
    "        106 countries with \n",
    "            Higher Average Profit Marging (2%)\n",
    "            Lower Discounts (up to 6%)\n",
    "            Higher Average Profit (113)\n",
    "            37% of Total Revenue\n",
    "            75% of Total Profit\n",
    "            41% of Total Orders\n",
    "            \n",
    "    \n",
    "    Profitable Performance: (Sales Focused on Revenue and Quantity Sold)\n",
    "        14 countries with \n",
    "            Average Profit Marging (1%)\n",
    "            Some Level os Discount (most of them lower than 20% but can get to 63%)\n",
    "            Average Profit (85)\n",
    "            50% of Total Revenue\n",
    "            48% of Total Profit\n",
    "            45% of Total Orders\n",
    "            \n",
    "        \n",
    "    Bad Performance:\n",
    "        27 countries with\n",
    "            Higher Discounts (23% up to 70%)\n",
    "            Average Deficit (-135)\n",
    "            "
   ]
  },
  {
   "cell_type": "code",
   "execution_count": 172,
   "metadata": {},
   "outputs": [
    {
     "data": {
      "text/plain": [
       "High Margins              106\n",
       "Bad Performance            27\n",
       "Profitable Performance     14\n",
       "Name: cluster, dtype: int64"
      ]
     },
     "execution_count": 172,
     "metadata": {},
     "output_type": "execute_result"
    }
   ],
   "source": [
    "df_aux = df_geolocation_abt.merge(df_dbscan_clusters, how='left', on='country')\n",
    "\n",
    "df_aux['cluster'] = df_aux['cluster'].map(\n",
    "        {-1:'Profitable Performance',\n",
    "         1:'Bad Performance',\n",
    "         0:'High Margins',}\n",
    "    )\n",
    "df_aux['cluster'] = pd.Categorical(df_aux['cluster'], [\"Bad Performance\", \"Profitable Performance\", \"High Margins\"])\n",
    "\n",
    "df_aux['cluster'].value_counts()"
   ]
  },
  {
   "cell_type": "code",
   "execution_count": 173,
   "metadata": {},
   "outputs": [
    {
     "data": {
      "text/html": [
       "<div>\n",
       "<style scoped>\n",
       "    .dataframe tbody tr th:only-of-type {\n",
       "        vertical-align: middle;\n",
       "    }\n",
       "\n",
       "    .dataframe tbody tr th {\n",
       "        vertical-align: top;\n",
       "    }\n",
       "\n",
       "    .dataframe thead th {\n",
       "        text-align: right;\n",
       "    }\n",
       "</style>\n",
       "<table border=\"1\" class=\"dataframe\">\n",
       "  <thead>\n",
       "    <tr style=\"text-align: right;\">\n",
       "      <th></th>\n",
       "      <th>total_sales</th>\n",
       "      <th>total_profit</th>\n",
       "      <th>n_orders</th>\n",
       "      <th>n_products</th>\n",
       "    </tr>\n",
       "    <tr>\n",
       "      <th>cluster</th>\n",
       "      <th></th>\n",
       "      <th></th>\n",
       "      <th></th>\n",
       "      <th></th>\n",
       "    </tr>\n",
       "  </thead>\n",
       "  <tbody>\n",
       "    <tr>\n",
       "      <th>High Margins</th>\n",
       "      <td>51327174.06</td>\n",
       "      <td>1102208.37</td>\n",
       "      <td>10685</td>\n",
       "      <td>68289</td>\n",
       "    </tr>\n",
       "    <tr>\n",
       "      <th>Profitable Performance</th>\n",
       "      <td>69995050.61</td>\n",
       "      <td>714438.50</td>\n",
       "      <td>11834</td>\n",
       "      <td>87018</td>\n",
       "    </tr>\n",
       "    <tr>\n",
       "      <th>Bad Performance</th>\n",
       "      <td>16294967.36</td>\n",
       "      <td>-349189.57</td>\n",
       "      <td>3234</td>\n",
       "      <td>23005</td>\n",
       "    </tr>\n",
       "  </tbody>\n",
       "</table>\n",
       "</div>"
      ],
      "text/plain": [
       "                        total_sales  total_profit  n_orders  n_products\n",
       "cluster                                                                \n",
       "High Margins            51327174.06    1102208.37     10685       68289\n",
       "Profitable Performance  69995050.61     714438.50     11834       87018\n",
       "Bad Performance         16294967.36    -349189.57      3234       23005"
      ]
     },
     "execution_count": 173,
     "metadata": {},
     "output_type": "execute_result"
    }
   ],
   "source": [
    "cols = ['total_sales', 'total_profit', 'n_orders', 'n_products',]\n",
    "df_aux.groupby(\"cluster\")[cols].sum().sort_values(\"cluster\", ascending=False).round(2)"
   ]
  },
  {
   "cell_type": "code",
   "execution_count": 174,
   "metadata": {},
   "outputs": [
    {
     "data": {
      "text/plain": [
       "total_sales     137617192\n",
       "total_profit      1467457\n",
       "n_orders            25753\n",
       "n_products         178312\n",
       "dtype: int32"
      ]
     },
     "execution_count": 174,
     "metadata": {},
     "output_type": "execute_result"
    }
   ],
   "source": [
    "df_aux.groupby(\"cluster\")[cols].sum().sum().astype(int)"
   ]
  },
  {
   "cell_type": "code",
   "execution_count": 175,
   "metadata": {},
   "outputs": [
    {
     "data": {
      "text/html": [
       "<div>\n",
       "<style scoped>\n",
       "    .dataframe tbody tr th:only-of-type {\n",
       "        vertical-align: middle;\n",
       "    }\n",
       "\n",
       "    .dataframe tbody tr th {\n",
       "        vertical-align: top;\n",
       "    }\n",
       "\n",
       "    .dataframe thead th {\n",
       "        text-align: right;\n",
       "    }\n",
       "</style>\n",
       "<table border=\"1\" class=\"dataframe\">\n",
       "  <thead>\n",
       "    <tr style=\"text-align: right;\">\n",
       "      <th></th>\n",
       "      <th>profitable_rate</th>\n",
       "      <th>avg_sales</th>\n",
       "      <th>avg_profit</th>\n",
       "      <th>avg_discount</th>\n",
       "      <th>avg_product_price</th>\n",
       "      <th>avg_shipping_cost</th>\n",
       "      <th>n_orders</th>\n",
       "      <th>n_products</th>\n",
       "      <th>avg_products_per_order</th>\n",
       "      <th>avg_delivery_time</th>\n",
       "      <th>avg_days_to_ship</th>\n",
       "      <th>avg_delayed_days</th>\n",
       "      <th>delivery_on_time</th>\n",
       "      <th>on_time_rate</th>\n",
       "    </tr>\n",
       "    <tr>\n",
       "      <th>cluster</th>\n",
       "      <th></th>\n",
       "      <th></th>\n",
       "      <th></th>\n",
       "      <th></th>\n",
       "      <th></th>\n",
       "      <th></th>\n",
       "      <th></th>\n",
       "      <th></th>\n",
       "      <th></th>\n",
       "      <th></th>\n",
       "      <th></th>\n",
       "      <th></th>\n",
       "      <th></th>\n",
       "      <th></th>\n",
       "    </tr>\n",
       "  </thead>\n",
       "  <tbody>\n",
       "    <tr>\n",
       "      <th>High Margins</th>\n",
       "      <td>0.972261</td>\n",
       "      <td>3297.220153</td>\n",
       "      <td>113.922158</td>\n",
       "      <td>0.010140</td>\n",
       "      <td>430.511863</td>\n",
       "      <td>55.635171</td>\n",
       "      <td>100.801887</td>\n",
       "      <td>644.235849</td>\n",
       "      <td>5.659102</td>\n",
       "      <td>18.227375</td>\n",
       "      <td>13.242645</td>\n",
       "      <td>-21.772625</td>\n",
       "      <td>91.150943</td>\n",
       "      <td>0.917443</td>\n",
       "    </tr>\n",
       "    <tr>\n",
       "      <th>Profitable Performance</th>\n",
       "      <td>0.774875</td>\n",
       "      <td>10437.751201</td>\n",
       "      <td>86.544571</td>\n",
       "      <td>0.138388</td>\n",
       "      <td>1723.464179</td>\n",
       "      <td>84.263361</td>\n",
       "      <td>845.285714</td>\n",
       "      <td>6215.571429</td>\n",
       "      <td>7.489859</td>\n",
       "      <td>21.377707</td>\n",
       "      <td>16.433218</td>\n",
       "      <td>-18.622293</td>\n",
       "      <td>768.500000</td>\n",
       "      <td>0.877636</td>\n",
       "    </tr>\n",
       "    <tr>\n",
       "      <th>Bad Performance</th>\n",
       "      <td>0.120507</td>\n",
       "      <td>3132.333910</td>\n",
       "      <td>-135.266880</td>\n",
       "      <td>0.494628</td>\n",
       "      <td>721.372139</td>\n",
       "      <td>32.689514</td>\n",
       "      <td>119.777778</td>\n",
       "      <td>852.037037</td>\n",
       "      <td>6.951383</td>\n",
       "      <td>18.480037</td>\n",
       "      <td>13.246156</td>\n",
       "      <td>-21.519963</td>\n",
       "      <td>109.370370</td>\n",
       "      <td>0.916091</td>\n",
       "    </tr>\n",
       "  </tbody>\n",
       "</table>\n",
       "</div>"
      ],
      "text/plain": [
       "                        profitable_rate     avg_sales  avg_profit  \\\n",
       "cluster                                                             \n",
       "High Margins                   0.972261   3297.220153  113.922158   \n",
       "Profitable Performance         0.774875  10437.751201   86.544571   \n",
       "Bad Performance                0.120507   3132.333910 -135.266880   \n",
       "\n",
       "                        avg_discount  avg_product_price  avg_shipping_cost  \\\n",
       "cluster                                                                      \n",
       "High Margins                0.010140         430.511863          55.635171   \n",
       "Profitable Performance      0.138388        1723.464179          84.263361   \n",
       "Bad Performance             0.494628         721.372139          32.689514   \n",
       "\n",
       "                          n_orders   n_products  avg_products_per_order  \\\n",
       "cluster                                                                   \n",
       "High Margins            100.801887   644.235849                5.659102   \n",
       "Profitable Performance  845.285714  6215.571429                7.489859   \n",
       "Bad Performance         119.777778   852.037037                6.951383   \n",
       "\n",
       "                        avg_delivery_time  avg_days_to_ship  avg_delayed_days  \\\n",
       "cluster                                                                         \n",
       "High Margins                    18.227375         13.242645        -21.772625   \n",
       "Profitable Performance          21.377707         16.433218        -18.622293   \n",
       "Bad Performance                 18.480037         13.246156        -21.519963   \n",
       "\n",
       "                        delivery_on_time  on_time_rate  \n",
       "cluster                                                 \n",
       "High Margins                   91.150943      0.917443  \n",
       "Profitable Performance        768.500000      0.877636  \n",
       "Bad Performance               109.370370      0.916091  "
      ]
     },
     "execution_count": 175,
     "metadata": {},
     "output_type": "execute_result"
    }
   ],
   "source": [
    "cols = ['profitable_rate', 'avg_sales', 'avg_profit', 'avg_discount', 'avg_product_price', 'avg_shipping_cost',\n",
    "'n_orders', 'n_products', 'avg_products_per_order', 'avg_delivery_time', 'avg_days_to_ship', 'avg_delayed_days', 'delivery_on_time', 'on_time_rate']\n",
    "\n",
    "df_aux.groupby(\"cluster\")[cols].mean().sort_values(\"cluster\", ascending=False)"
   ]
  },
  {
   "cell_type": "code",
   "execution_count": 176,
   "metadata": {},
   "outputs": [
    {
     "data": {
      "text/html": [
       "<div>\n",
       "<style scoped>\n",
       "    .dataframe tbody tr th:only-of-type {\n",
       "        vertical-align: middle;\n",
       "    }\n",
       "\n",
       "    .dataframe tbody tr th {\n",
       "        vertical-align: top;\n",
       "    }\n",
       "\n",
       "    .dataframe thead th {\n",
       "        text-align: right;\n",
       "    }\n",
       "</style>\n",
       "<table border=\"1\" class=\"dataframe\">\n",
       "  <thead>\n",
       "    <tr style=\"text-align: right;\">\n",
       "      <th></th>\n",
       "      <th>mean</th>\n",
       "      <th>std</th>\n",
       "      <th>min</th>\n",
       "      <th>25%</th>\n",
       "      <th>50%</th>\n",
       "      <th>75%</th>\n",
       "      <th>80%</th>\n",
       "      <th>95%</th>\n",
       "      <th>max</th>\n",
       "    </tr>\n",
       "    <tr>\n",
       "      <th>cluster</th>\n",
       "      <th></th>\n",
       "      <th></th>\n",
       "      <th></th>\n",
       "      <th></th>\n",
       "      <th></th>\n",
       "      <th></th>\n",
       "      <th></th>\n",
       "      <th></th>\n",
       "      <th></th>\n",
       "    </tr>\n",
       "  </thead>\n",
       "  <tbody>\n",
       "    <tr>\n",
       "      <th>High Margins</th>\n",
       "      <td>0.010140</td>\n",
       "      <td>0.038774</td>\n",
       "      <td>0.000000</td>\n",
       "      <td>0.000000</td>\n",
       "      <td>0.000000</td>\n",
       "      <td>0.00000</td>\n",
       "      <td>0.000030</td>\n",
       "      <td>0.063957</td>\n",
       "      <td>0.297613</td>\n",
       "    </tr>\n",
       "    <tr>\n",
       "      <th>Profitable Performance</th>\n",
       "      <td>0.138388</td>\n",
       "      <td>0.225257</td>\n",
       "      <td>0.000000</td>\n",
       "      <td>0.000106</td>\n",
       "      <td>0.049648</td>\n",
       "      <td>0.14738</td>\n",
       "      <td>0.151971</td>\n",
       "      <td>0.635000</td>\n",
       "      <td>0.700000</td>\n",
       "    </tr>\n",
       "    <tr>\n",
       "      <th>Bad Performance</th>\n",
       "      <td>0.494628</td>\n",
       "      <td>0.154612</td>\n",
       "      <td>0.234884</td>\n",
       "      <td>0.406406</td>\n",
       "      <td>0.453452</td>\n",
       "      <td>0.70000</td>\n",
       "      <td>0.700000</td>\n",
       "      <td>0.700000</td>\n",
       "      <td>0.700000</td>\n",
       "    </tr>\n",
       "  </tbody>\n",
       "</table>\n",
       "</div>"
      ],
      "text/plain": [
       "                            mean       std       min       25%       50%  \\\n",
       "cluster                                                                    \n",
       "High Margins            0.010140  0.038774  0.000000  0.000000  0.000000   \n",
       "Profitable Performance  0.138388  0.225257  0.000000  0.000106  0.049648   \n",
       "Bad Performance         0.494628  0.154612  0.234884  0.406406  0.453452   \n",
       "\n",
       "                            75%       80%       95%       max  \n",
       "cluster                                                        \n",
       "High Margins            0.00000  0.000030  0.063957  0.297613  \n",
       "Profitable Performance  0.14738  0.151971  0.635000  0.700000  \n",
       "Bad Performance         0.70000  0.700000  0.700000  0.700000  "
      ]
     },
     "execution_count": 176,
     "metadata": {},
     "output_type": "execute_result"
    }
   ],
   "source": [
    "cluster_stats(df_aux, 'avg_discount', quantile_2=.95).sort_values(\"cluster\", ascending=False)"
   ]
  },
  {
   "cell_type": "markdown",
   "metadata": {},
   "source": [
    "### AgglomerativeClustering\n",
    "\n",
    "\n",
    "Initial Cluster Segment Analysis \n",
    "\n",
    "    Cluster 0 (Extraordinary Performance):\n",
    "        Positive Profit\n",
    "        Some Level of Discount\n",
    "        Higher Shipping Cost\n",
    "        Higher Number of Sold Products\n",
    "        Higher Number of Orders\n",
    "        More Orders Delivered On Time\n",
    "        More Consistency in Delivery Time and Time to Ship Product\n",
    "    \n",
    "    Cluster 1 (Bad Performance):\n",
    "        Negative Profit\n",
    "        Higher Discounts\n",
    "    \n",
    "    Cluster 2 (Profitable Performance):\n",
    "        Positive Profit\n",
    "        No Discount\n",
    "        \n",
    "**Final Group Characteristics**\n",
    "\n",
    "    Extraordinary Performance:\n",
    "        13 countries with \n",
    "            \n",
    "    \n",
    "    Profitable Performance:\n",
    "        105 countries with \n",
    "            \n",
    "        \n",
    "    Bad Performance:\n",
    "        29 countries with\n",
    "            "
   ]
  },
  {
   "cell_type": "code",
   "execution_count": 177,
   "metadata": {},
   "outputs": [
    {
     "data": {
      "text/plain": [
       "Profitable Performance       105\n",
       "Bad Performance               29\n",
       "Extraordinary Performance     13\n",
       "Name: cluster, dtype: int64"
      ]
     },
     "execution_count": 177,
     "metadata": {},
     "output_type": "execute_result"
    }
   ],
   "source": [
    "df_aux = df_geolocation_abt.merge(df_agglomerative_clustering, how='left', on='country')\n",
    "\n",
    "df_aux['cluster'] = df_aux['cluster'].map(\n",
    "        {0:'Extraordinary Performance',\n",
    "         1:'Bad Performance',\n",
    "         2:'Profitable Performance',}\n",
    "    )\n",
    "df_aux['cluster'] = pd.Categorical(df_aux['cluster'], [\"Bad Performance\", \"Profitable Performance\", \"Extraordinary Performance\"])\n",
    "\n",
    "df_aux['cluster'].value_counts()"
   ]
  },
  {
   "cell_type": "code",
   "execution_count": 196,
   "metadata": {},
   "outputs": [
    {
     "data": {
      "text/html": [
       "<div>\n",
       "<style scoped>\n",
       "    .dataframe tbody tr th:only-of-type {\n",
       "        vertical-align: middle;\n",
       "    }\n",
       "\n",
       "    .dataframe tbody tr th {\n",
       "        vertical-align: top;\n",
       "    }\n",
       "\n",
       "    .dataframe thead th {\n",
       "        text-align: right;\n",
       "    }\n",
       "</style>\n",
       "<table border=\"1\" class=\"dataframe\">\n",
       "  <thead>\n",
       "    <tr style=\"text-align: right;\">\n",
       "      <th></th>\n",
       "      <th>total_sales</th>\n",
       "      <th>total_profit</th>\n",
       "      <th>n_orders</th>\n",
       "      <th>n_products</th>\n",
       "    </tr>\n",
       "    <tr>\n",
       "      <th>cluster</th>\n",
       "      <th></th>\n",
       "      <th></th>\n",
       "      <th></th>\n",
       "      <th></th>\n",
       "    </tr>\n",
       "  </thead>\n",
       "  <tbody>\n",
       "    <tr>\n",
       "      <th>Extraordinary Performance</th>\n",
       "      <td>77621346.44</td>\n",
       "      <td>1237647.78</td>\n",
       "      <td>15631</td>\n",
       "      <td>116946</td>\n",
       "    </tr>\n",
       "    <tr>\n",
       "      <th>Profitable Performance</th>\n",
       "      <td>43604917.03</td>\n",
       "      <td>677709.17</td>\n",
       "      <td>6207</td>\n",
       "      <td>35323</td>\n",
       "    </tr>\n",
       "    <tr>\n",
       "      <th>Bad Performance</th>\n",
       "      <td>16390928.55</td>\n",
       "      <td>-447899.67</td>\n",
       "      <td>3915</td>\n",
       "      <td>26043</td>\n",
       "    </tr>\n",
       "  </tbody>\n",
       "</table>\n",
       "</div>"
      ],
      "text/plain": [
       "                           total_sales  total_profit  n_orders  n_products\n",
       "cluster                                                                   \n",
       "Extraordinary Performance  77621346.44    1237647.78     15631      116946\n",
       "Profitable Performance     43604917.03     677709.17      6207       35323\n",
       "Bad Performance            16390928.55    -447899.67      3915       26043"
      ]
     },
     "execution_count": 196,
     "metadata": {},
     "output_type": "execute_result"
    }
   ],
   "source": [
    "cols = ['total_sales', 'total_profit', 'n_orders', 'n_products',]\n",
    "df_aux.groupby(\"cluster\")[cols].sum().sort_values(\"cluster\", ascending=False).round(2)"
   ]
  },
  {
   "cell_type": "markdown",
   "metadata": {},
   "source": [
    "    Extraordinary Performance:\n",
    "        13 countries with \n",
    "            56% of Total Revenue\n",
    "            84% of Total Profit\n",
    "            60% of Number of Orders\n",
    "    \n",
    "    Profitable Performance:\n",
    "        105 countries with \n",
    "            31% of Total Revenue\n",
    "            46% of Total Profit\n",
    "            24% of Number of Orders\n",
    "        \n",
    "    Bad Performance:\n",
    "        29 countries with\n",
    "            "
   ]
  },
  {
   "cell_type": "code",
   "execution_count": 183,
   "metadata": {},
   "outputs": [
    {
     "data": {
      "text/plain": [
       "total_sales     137617192\n",
       "total_profit      1467457\n",
       "n_orders            25753\n",
       "n_products         178312\n",
       "dtype: int32"
      ]
     },
     "execution_count": 183,
     "metadata": {},
     "output_type": "execute_result"
    }
   ],
   "source": [
    "df_aux.groupby(\"cluster\")[cols].sum().sum().astype(int)"
   ]
  },
  {
   "cell_type": "code",
   "execution_count": 184,
   "metadata": {},
   "outputs": [
    {
     "data": {
      "text/html": [
       "<div>\n",
       "<style scoped>\n",
       "    .dataframe tbody tr th:only-of-type {\n",
       "        vertical-align: middle;\n",
       "    }\n",
       "\n",
       "    .dataframe tbody tr th {\n",
       "        vertical-align: top;\n",
       "    }\n",
       "\n",
       "    .dataframe thead th {\n",
       "        text-align: right;\n",
       "    }\n",
       "</style>\n",
       "<table border=\"1\" class=\"dataframe\">\n",
       "  <thead>\n",
       "    <tr style=\"text-align: right;\">\n",
       "      <th></th>\n",
       "      <th>profitable_rate</th>\n",
       "      <th>avg_sales</th>\n",
       "      <th>avg_profit</th>\n",
       "      <th>avg_discount</th>\n",
       "      <th>avg_product_price</th>\n",
       "      <th>avg_shipping_cost</th>\n",
       "      <th>n_orders</th>\n",
       "      <th>n_products</th>\n",
       "      <th>avg_products_per_order</th>\n",
       "      <th>avg_delivery_time</th>\n",
       "      <th>avg_days_to_ship</th>\n",
       "      <th>avg_delayed_days</th>\n",
       "      <th>delivery_on_time</th>\n",
       "      <th>on_time_rate</th>\n",
       "    </tr>\n",
       "    <tr>\n",
       "      <th>cluster</th>\n",
       "      <th></th>\n",
       "      <th></th>\n",
       "      <th></th>\n",
       "      <th></th>\n",
       "      <th></th>\n",
       "      <th></th>\n",
       "      <th></th>\n",
       "      <th></th>\n",
       "      <th></th>\n",
       "      <th></th>\n",
       "      <th></th>\n",
       "      <th></th>\n",
       "      <th></th>\n",
       "      <th></th>\n",
       "    </tr>\n",
       "  </thead>\n",
       "  <tbody>\n",
       "    <tr>\n",
       "      <th>Extraordinary Performance</th>\n",
       "      <td>0.792094</td>\n",
       "      <td>5496.312346</td>\n",
       "      <td>85.664725</td>\n",
       "      <td>0.106590</td>\n",
       "      <td>763.291474</td>\n",
       "      <td>62.874026</td>\n",
       "      <td>1202.384615</td>\n",
       "      <td>8995.846154</td>\n",
       "      <td>7.398100</td>\n",
       "      <td>18.730512</td>\n",
       "      <td>13.672544</td>\n",
       "      <td>-21.269488</td>\n",
       "      <td>1090.230769</td>\n",
       "      <td>0.906577</td>\n",
       "    </tr>\n",
       "    <tr>\n",
       "      <th>Profitable Performance</th>\n",
       "      <td>0.986768</td>\n",
       "      <td>4037.676740</td>\n",
       "      <td>118.572884</td>\n",
       "      <td>0.003110</td>\n",
       "      <td>569.084763</td>\n",
       "      <td>59.366042</td>\n",
       "      <td>59.114286</td>\n",
       "      <td>336.409524</td>\n",
       "      <td>5.686608</td>\n",
       "      <td>18.500052</td>\n",
       "      <td>13.536035</td>\n",
       "      <td>-21.499948</td>\n",
       "      <td>53.600000</td>\n",
       "      <td>0.917512</td>\n",
       "    </tr>\n",
       "    <tr>\n",
       "      <th>Bad Performance</th>\n",
       "      <td>0.112196</td>\n",
       "      <td>2924.094839</td>\n",
       "      <td>-135.469907</td>\n",
       "      <td>0.505343</td>\n",
       "      <td>674.590157</td>\n",
       "      <td>31.339149</td>\n",
       "      <td>135.000000</td>\n",
       "      <td>898.034483</td>\n",
       "      <td>6.866929</td>\n",
       "      <td>18.770639</td>\n",
       "      <td>13.531202</td>\n",
       "      <td>-21.229361</td>\n",
       "      <td>123.206897</td>\n",
       "      <td>0.901590</td>\n",
       "    </tr>\n",
       "  </tbody>\n",
       "</table>\n",
       "</div>"
      ],
      "text/plain": [
       "                           profitable_rate    avg_sales  avg_profit  \\\n",
       "cluster                                                               \n",
       "Extraordinary Performance         0.792094  5496.312346   85.664725   \n",
       "Profitable Performance            0.986768  4037.676740  118.572884   \n",
       "Bad Performance                   0.112196  2924.094839 -135.469907   \n",
       "\n",
       "                           avg_discount  avg_product_price  avg_shipping_cost  \\\n",
       "cluster                                                                         \n",
       "Extraordinary Performance      0.106590         763.291474          62.874026   \n",
       "Profitable Performance         0.003110         569.084763          59.366042   \n",
       "Bad Performance                0.505343         674.590157          31.339149   \n",
       "\n",
       "                              n_orders   n_products  avg_products_per_order  \\\n",
       "cluster                                                                       \n",
       "Extraordinary Performance  1202.384615  8995.846154                7.398100   \n",
       "Profitable Performance       59.114286   336.409524                5.686608   \n",
       "Bad Performance             135.000000   898.034483                6.866929   \n",
       "\n",
       "                           avg_delivery_time  avg_days_to_ship  \\\n",
       "cluster                                                          \n",
       "Extraordinary Performance          18.730512         13.672544   \n",
       "Profitable Performance             18.500052         13.536035   \n",
       "Bad Performance                    18.770639         13.531202   \n",
       "\n",
       "                           avg_delayed_days  delivery_on_time  on_time_rate  \n",
       "cluster                                                                      \n",
       "Extraordinary Performance        -21.269488       1090.230769      0.906577  \n",
       "Profitable Performance           -21.499948         53.600000      0.917512  \n",
       "Bad Performance                  -21.229361        123.206897      0.901590  "
      ]
     },
     "execution_count": 184,
     "metadata": {},
     "output_type": "execute_result"
    }
   ],
   "source": [
    "cols = ['profitable_rate', 'avg_sales', 'avg_profit', 'avg_discount', 'avg_product_price', 'avg_shipping_cost',\n",
    "'n_orders', 'n_products', 'avg_products_per_order', 'avg_delivery_time', 'avg_days_to_ship', 'avg_delayed_days', 'delivery_on_time', 'on_time_rate']\n",
    "\n",
    "df_aux.groupby(\"cluster\")[cols].mean().sort_values(\"cluster\", ascending=False)"
   ]
  },
  {
   "cell_type": "code",
   "execution_count": 185,
   "metadata": {},
   "outputs": [
    {
     "data": {
      "text/html": [
       "<div>\n",
       "<style scoped>\n",
       "    .dataframe tbody tr th:only-of-type {\n",
       "        vertical-align: middle;\n",
       "    }\n",
       "\n",
       "    .dataframe tbody tr th {\n",
       "        vertical-align: top;\n",
       "    }\n",
       "\n",
       "    .dataframe thead th {\n",
       "        text-align: right;\n",
       "    }\n",
       "</style>\n",
       "<table border=\"1\" class=\"dataframe\">\n",
       "  <thead>\n",
       "    <tr style=\"text-align: right;\">\n",
       "      <th></th>\n",
       "      <th>mean</th>\n",
       "      <th>std</th>\n",
       "      <th>min</th>\n",
       "      <th>25%</th>\n",
       "      <th>50%</th>\n",
       "      <th>75%</th>\n",
       "      <th>80%</th>\n",
       "      <th>95%</th>\n",
       "      <th>max</th>\n",
       "    </tr>\n",
       "    <tr>\n",
       "      <th>cluster</th>\n",
       "      <th></th>\n",
       "      <th></th>\n",
       "      <th></th>\n",
       "      <th></th>\n",
       "      <th></th>\n",
       "      <th></th>\n",
       "      <th></th>\n",
       "      <th></th>\n",
       "      <th></th>\n",
       "    </tr>\n",
       "  </thead>\n",
       "  <tbody>\n",
       "    <tr>\n",
       "      <th>Extraordinary Performance</th>\n",
       "      <td>0.106590</td>\n",
       "      <td>0.078731</td>\n",
       "      <td>0.018279</td>\n",
       "      <td>0.060642</td>\n",
       "      <td>0.070584</td>\n",
       "      <td>0.148744</td>\n",
       "      <td>0.153585</td>\n",
       "      <td>0.224950</td>\n",
       "      <td>0.297613</td>\n",
       "    </tr>\n",
       "    <tr>\n",
       "      <th>Profitable Performance</th>\n",
       "      <td>0.003110</td>\n",
       "      <td>0.015001</td>\n",
       "      <td>0.000000</td>\n",
       "      <td>0.000000</td>\n",
       "      <td>0.000000</td>\n",
       "      <td>0.000000</td>\n",
       "      <td>0.000000</td>\n",
       "      <td>0.009929</td>\n",
       "      <td>0.125000</td>\n",
       "    </tr>\n",
       "    <tr>\n",
       "      <th>Bad Performance</th>\n",
       "      <td>0.505343</td>\n",
       "      <td>0.154859</td>\n",
       "      <td>0.234884</td>\n",
       "      <td>0.407650</td>\n",
       "      <td>0.486848</td>\n",
       "      <td>0.700000</td>\n",
       "      <td>0.700000</td>\n",
       "      <td>0.700000</td>\n",
       "      <td>0.700000</td>\n",
       "    </tr>\n",
       "  </tbody>\n",
       "</table>\n",
       "</div>"
      ],
      "text/plain": [
       "                               mean       std       min       25%       50%  \\\n",
       "cluster                                                                       \n",
       "Extraordinary Performance  0.106590  0.078731  0.018279  0.060642  0.070584   \n",
       "Profitable Performance     0.003110  0.015001  0.000000  0.000000  0.000000   \n",
       "Bad Performance            0.505343  0.154859  0.234884  0.407650  0.486848   \n",
       "\n",
       "                                75%       80%       95%       max  \n",
       "cluster                                                            \n",
       "Extraordinary Performance  0.148744  0.153585  0.224950  0.297613  \n",
       "Profitable Performance     0.000000  0.000000  0.009929  0.125000  \n",
       "Bad Performance            0.700000  0.700000  0.700000  0.700000  "
      ]
     },
     "execution_count": 185,
     "metadata": {},
     "output_type": "execute_result"
    }
   ],
   "source": [
    "cluster_stats(df_aux, 'avg_discount', quantile_2=.95).sort_values(\"cluster\", ascending=False)"
   ]
  }
 ],
 "metadata": {
  "colab": {
   "authorship_tag": "ABX9TyNfB8tOul4pdc5I6NQHc7mm",
   "provenance": []
  },
  "kernelspec": {
   "display_name": "Python 3 (ipykernel)",
   "language": "python",
   "name": "python3"
  },
  "language_info": {
   "codemirror_mode": {
    "name": "ipython",
    "version": 3
   },
   "file_extension": ".py",
   "mimetype": "text/x-python",
   "name": "python",
   "nbconvert_exporter": "python",
   "pygments_lexer": "ipython3",
   "version": "3.11.2"
  }
 },
 "nbformat": 4,
 "nbformat_minor": 1
}
