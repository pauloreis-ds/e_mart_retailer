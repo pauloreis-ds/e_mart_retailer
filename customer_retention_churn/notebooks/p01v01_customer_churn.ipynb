{
 "cells": [
  {
   "cell_type": "markdown",
   "id": "53ff80a0",
   "metadata": {},
   "source": [
    "## Notebook objectives\n",
    "\n",
    "Predict Customers who will churn (more than 6 months with no purchases)"
   ]
  },
  {
   "cell_type": "markdown",
   "id": "54bbf769",
   "metadata": {},
   "source": [
    "## Agenda\n",
    "\n",
    "[Business Context](#Business-Context)<br> \n",
    "&emsp;[Business Questions](#Business-Questions)<br>\n",
    "\n",
    "[Imports](#Imports)<br>\n",
    "&emsp;[Helper Functions and Classes](#Helper-Functions-and-Classes)<br>\n",
    "\n",
    "\n",
    "[Settings](#Settings)<br>\n",
    "\n",
    "[Loading Data](#Loading-Data)<br>\n",
    "&emsp;[df_orders_abt](#df_orders_abt)<br>\n",
    "\n",
    "[Analytical Base Table](#Analytical-Base-Table)<br>\n",
    "&emsp;[df_churn](#df_churn)<br>\n",
    "&emsp;[df_customers](#df_customers)<br>\n",
    "\n",
    "[Feature Selection](#Feature-Selection)<br>\n",
    "\n",
    "[Preprocessing](#Preprocessing)<br>\n",
    "\n",
    "[Over Sampling](#Over-Sampling)<br>\n",
    "\n",
    "[Train Test Split](#Train-Test-Split)<br>\n",
    "\n",
    "[Random Forest](#Random-Forest)<br>\n",
    "\n",
    "[Feature Importances](#Feature-Importances)<br>\n",
    "\n",
    "[Analysis](#Analysis)<br>\n",
    "&emsp;[Confusion Matrix](#Confusion-Matrix)<br>\n",
    "&emsp;[Cross Valdiation](#Cross-Valdiation)<br>\n",
    "&emsp;[Business Impact](#Business-Impact)<br>\n",
    "\n",
    "[2023 Prediction](#2023-Prediction)<br>\n"
   ]
  },
  {
   "cell_type": "markdown",
   "id": "8a9a1835",
   "metadata": {},
   "source": [
    "Customer Retention indicates whether the product and the quality of service please existing customers. In order to retain customers, E-Mart aims to predict which customer is going to stop buying.\n",
    "\n",
    "Data Products asked:\n",
    "\n",
    "- **A list of customer IDs and their probability of churn.**\n",
    "\n",
    "- **What's the model performance in predicting customer churn?**\n",
    "\n",
    "- **What's the monetary return  the model will bring?**\n",
    "\n",
    "- **What's Customers Churn Rate?**\n",
    "\n",
    "- **A Dashboard to keep track of Customer Churn and Model's Performance.**\n",
    "\n"
   ]
  },
  {
   "cell_type": "markdown",
   "id": "d9122be7",
   "metadata": {},
   "source": [
    "## Imports"
   ]
  },
  {
   "cell_type": "code",
   "execution_count": 1,
   "id": "232f6c1b",
   "metadata": {},
   "outputs": [],
   "source": [
    "import pandas as pd\n",
    "import numpy as np\n",
    "import matplotlib.pyplot as plt\n",
    "import seaborn as sns\n",
    "\n",
    "# from sklearn.preprocessing import MinMaxScaler\n",
    "\n",
    "from sklearn.ensemble import RandomForestClassifier\n",
    "\n",
    "from sklearn.model_selection import train_test_split\n",
    "from sklearn.metrics import classification_report\n",
    "from sklearn.metrics import confusion_matrix, ConfusionMatrixDisplay\n",
    "\n",
    "from sklearn.model_selection import cross_validate"
   ]
  },
  {
   "cell_type": "markdown",
   "id": "a42663b6",
   "metadata": {},
   "source": [
    "### Helper Functions and Classes"
   ]
  },
  {
   "cell_type": "code",
   "execution_count": 2,
   "id": "edd1e2ac",
   "metadata": {},
   "outputs": [],
   "source": [
    "def get_snakecase_columns(df):\n",
    "    \"\"\"Sets column name to snake_case format\n",
    "    \n",
    "    df: pandas.DataFrame\n",
    "    \n",
    "    Return: map\n",
    "    \"\"\"\n",
    "    snakecase = lambda x: str(x).lower().replace(' ', '_').replace('-', '_')\n",
    "    return map(snakecase, df.columns)\n",
    "\n",
    "def date(str_date):\n",
    "    \"\"\"Apply pandas.to_datetime to argument converting it to datetime.\n",
    "        \n",
    "    \"\"\"\n",
    "    return pd.to_datetime(str_date)\n",
    "\n",
    "def find_column(df, col_name):\n",
    "    \"\"\"Checks if DataFrame contains a 'column name' and returns the matched columns\n",
    "    \n",
    "    df: pandas.DataFrame\n",
    "    col_name: column name or part of column name to search for\n",
    "    \n",
    "    Return: DataFrame with column names that match the col_name searched\n",
    "    \"\"\"\n",
    "    \n",
    "    df_cols = pd.DataFrame(df.columns, columns=['col_name'])\n",
    "\n",
    "    return df_cols[df_cols['col_name'].str.contains(col_name)].reset_index(drop=True)\n",
    "\n",
    "\n",
    "def fig(x=15, y=5, set_as_global=False, reset_to_default=False):\n",
    "    \"\"\" Adjust size of matplotlib figure\n",
    "\n",
    "    x: figure width.\n",
    "    y: figure height.\n",
    "    set_as_global: bool.\n",
    "        If True, then it sets \"x\" and \"y\" axis for all subsequent plots.\n",
    "    reset_to_default: bool.\n",
    "        If True, then it resets the global figure size back to default.\n",
    "    \"\"\"\n",
    "    if set_as_global:\n",
    "        plt.rcParams[\"figure.figsize\"] = (x, y)\n",
    "    elif reset_to_default:\n",
    "        plt.rcParams[\"figure.figsize\"] = plt.rcParamsDefault[\"figure.figsize\"]\n",
    "    else:\n",
    "        plt.figure(figsize=(x,y))\n",
    "        \n",
    "\n",
    "def train_test_model(model, X_train, X_test, y_train, y_test):\n",
    "    model.fit(X_train, y_train)\n",
    "    y_pred = model.predict(X_test)\n",
    "    print(classification_report(y_test, y_pred))\n",
    "    return y_pred"
   ]
  },
  {
   "cell_type": "markdown",
   "id": "07e92739",
   "metadata": {},
   "source": [
    "## Settings"
   ]
  },
  {
   "cell_type": "code",
   "execution_count": 3,
   "id": "76884f0e",
   "metadata": {},
   "outputs": [],
   "source": [
    "pd.set_option('display.max_columns', 500)\n",
    "\n",
    "fig(12,4, set_as_global=True)"
   ]
  },
  {
   "cell_type": "markdown",
   "id": "cb5222bb",
   "metadata": {},
   "source": [
    "## Loading Data"
   ]
  },
  {
   "cell_type": "markdown",
   "id": "3cbd8cb3",
   "metadata": {},
   "source": [
    "### df_orders_abt"
   ]
  },
  {
   "cell_type": "code",
   "execution_count": 4,
   "id": "fe87d3ed",
   "metadata": {},
   "outputs": [],
   "source": [
    "df_orders_abt = pd.read_csv(\"../../data/growth_analysis/orders_abt.csv\")\n",
    "\n",
    "df_orders_abt['order_date'] = date(df_orders_abt['order_date'])\n",
    "df_orders_abt['recency'] = (df_orders_abt['order_date'].max() - df_orders_abt['order_date']).dt.days"
   ]
  },
  {
   "cell_type": "markdown",
   "id": "e922f5c7",
   "metadata": {},
   "source": [
    "## Analytical Base Table"
   ]
  },
  {
   "cell_type": "markdown",
   "id": "187e7552",
   "metadata": {},
   "source": [
    "### df_churn\n",
    "\n",
    "\n",
    "A customer is in churn when they have not purchased a product for more than 6 months."
   ]
  },
  {
   "cell_type": "code",
   "execution_count": 5,
   "id": "72d5ccab",
   "metadata": {},
   "outputs": [],
   "source": [
    "df_churn = df_orders_abt.query(\"recency < 180\")[['customer_id']].drop_duplicates()\n",
    "df_churn['is_churn'] = False"
   ]
  },
  {
   "cell_type": "markdown",
   "id": "3c6159bf",
   "metadata": {},
   "source": [
    "### df_customers"
   ]
  },
  {
   "cell_type": "code",
   "execution_count": 6,
   "id": "b02a81bf",
   "metadata": {},
   "outputs": [
    {
     "data": {
      "text/html": [
       "<div>\n",
       "<style scoped>\n",
       "    .dataframe tbody tr th:only-of-type {\n",
       "        vertical-align: middle;\n",
       "    }\n",
       "\n",
       "    .dataframe tbody tr th {\n",
       "        vertical-align: top;\n",
       "    }\n",
       "\n",
       "    .dataframe thead th {\n",
       "        text-align: right;\n",
       "    }\n",
       "</style>\n",
       "<table border=\"1\" class=\"dataframe\">\n",
       "  <thead>\n",
       "    <tr style=\"text-align: right;\">\n",
       "      <th></th>\n",
       "      <th>customer_id</th>\n",
       "      <th>orders</th>\n",
       "      <th>total_sales</th>\n",
       "      <th>avg_sales</th>\n",
       "      <th>total_profit</th>\n",
       "      <th>avg_profit</th>\n",
       "      <th>total_products</th>\n",
       "      <th>avg_products</th>\n",
       "      <th>avg_shipping_cost</th>\n",
       "      <th>avg_discount</th>\n",
       "      <th>profitability</th>\n",
       "      <th>delivery_on_time_rate</th>\n",
       "      <th>avg_days_to_ship</th>\n",
       "      <th>avg_delivery_time</th>\n",
       "      <th>recency</th>\n",
       "      <th>is_churn</th>\n",
       "    </tr>\n",
       "  </thead>\n",
       "  <tbody>\n",
       "    <tr>\n",
       "      <th>0</th>\n",
       "      <td>AA-10315</td>\n",
       "      <td>10</td>\n",
       "      <td>20958.058462</td>\n",
       "      <td>2095.805846</td>\n",
       "      <td>103.87640</td>\n",
       "      <td>10.387640</td>\n",
       "      <td>76</td>\n",
       "      <td>7.600000</td>\n",
       "      <td>80.465000</td>\n",
       "      <td>0.105000</td>\n",
       "      <td>0.800000</td>\n",
       "      <td>0.600000</td>\n",
       "      <td>18.555556</td>\n",
       "      <td>24.666667</td>\n",
       "      <td>2</td>\n",
       "      <td>False</td>\n",
       "    </tr>\n",
       "    <tr>\n",
       "      <th>1</th>\n",
       "      <td>AA-10375</td>\n",
       "      <td>10</td>\n",
       "      <td>3401.737505</td>\n",
       "      <td>340.173751</td>\n",
       "      <td>-644.34180</td>\n",
       "      <td>-64.434180</td>\n",
       "      <td>65</td>\n",
       "      <td>6.500000</td>\n",
       "      <td>38.714000</td>\n",
       "      <td>0.287500</td>\n",
       "      <td>0.500000</td>\n",
       "      <td>1.000000</td>\n",
       "      <td>18.300000</td>\n",
       "      <td>22.200000</td>\n",
       "      <td>136</td>\n",
       "      <td>False</td>\n",
       "    </tr>\n",
       "    <tr>\n",
       "      <th>2</th>\n",
       "      <td>AA-10480</td>\n",
       "      <td>10</td>\n",
       "      <td>77147.268637</td>\n",
       "      <td>7714.726864</td>\n",
       "      <td>967.84830</td>\n",
       "      <td>96.784830</td>\n",
       "      <td>92</td>\n",
       "      <td>9.200000</td>\n",
       "      <td>119.604000</td>\n",
       "      <td>0.062000</td>\n",
       "      <td>0.800000</td>\n",
       "      <td>1.000000</td>\n",
       "      <td>10.000000</td>\n",
       "      <td>14.500000</td>\n",
       "      <td>48</td>\n",
       "      <td>False</td>\n",
       "    </tr>\n",
       "    <tr>\n",
       "      <th>3</th>\n",
       "      <td>AA-10645</td>\n",
       "      <td>21</td>\n",
       "      <td>296849.136504</td>\n",
       "      <td>14135.673167</td>\n",
       "      <td>2303.70214</td>\n",
       "      <td>109.700102</td>\n",
       "      <td>159</td>\n",
       "      <td>7.571429</td>\n",
       "      <td>50.748095</td>\n",
       "      <td>0.099183</td>\n",
       "      <td>0.904762</td>\n",
       "      <td>0.952381</td>\n",
       "      <td>11.714286</td>\n",
       "      <td>17.900000</td>\n",
       "      <td>7</td>\n",
       "      <td>False</td>\n",
       "    </tr>\n",
       "    <tr>\n",
       "      <th>4</th>\n",
       "      <td>AA-315</td>\n",
       "      <td>4</td>\n",
       "      <td>2187.626955</td>\n",
       "      <td>546.906739</td>\n",
       "      <td>556.70400</td>\n",
       "      <td>139.176000</td>\n",
       "      <td>17</td>\n",
       "      <td>4.250000</td>\n",
       "      <td>53.395000</td>\n",
       "      <td>0.150000</td>\n",
       "      <td>0.750000</td>\n",
       "      <td>1.000000</td>\n",
       "      <td>12.750000</td>\n",
       "      <td>16.250000</td>\n",
       "      <td>58</td>\n",
       "      <td>False</td>\n",
       "    </tr>\n",
       "  </tbody>\n",
       "</table>\n",
       "</div>"
      ],
      "text/plain": [
       "  customer_id  orders    total_sales     avg_sales  total_profit  avg_profit  \\\n",
       "0    AA-10315      10   20958.058462   2095.805846     103.87640   10.387640   \n",
       "1    AA-10375      10    3401.737505    340.173751    -644.34180  -64.434180   \n",
       "2    AA-10480      10   77147.268637   7714.726864     967.84830   96.784830   \n",
       "3    AA-10645      21  296849.136504  14135.673167    2303.70214  109.700102   \n",
       "4      AA-315       4    2187.626955    546.906739     556.70400  139.176000   \n",
       "\n",
       "   total_products  avg_products  avg_shipping_cost  avg_discount  \\\n",
       "0              76      7.600000          80.465000      0.105000   \n",
       "1              65      6.500000          38.714000      0.287500   \n",
       "2              92      9.200000         119.604000      0.062000   \n",
       "3             159      7.571429          50.748095      0.099183   \n",
       "4              17      4.250000          53.395000      0.150000   \n",
       "\n",
       "   profitability  delivery_on_time_rate  avg_days_to_ship  avg_delivery_time  \\\n",
       "0       0.800000               0.600000         18.555556          24.666667   \n",
       "1       0.500000               1.000000         18.300000          22.200000   \n",
       "2       0.800000               1.000000         10.000000          14.500000   \n",
       "3       0.904762               0.952381         11.714286          17.900000   \n",
       "4       0.750000               1.000000         12.750000          16.250000   \n",
       "\n",
       "   recency  is_churn  \n",
       "0        2     False  \n",
       "1      136     False  \n",
       "2       48     False  \n",
       "3        7     False  \n",
       "4       58     False  "
      ]
     },
     "execution_count": 6,
     "metadata": {},
     "output_type": "execute_result"
    }
   ],
   "source": [
    "df_aux = df_orders_abt.query(\"180 < recency < 900\")\n",
    "CURRENT_DATE = df_aux['order_date'].max()\n",
    "df_customers = (df_aux\n",
    "                   .groupby(\"customer_id\")\n",
    "                   .agg(\n",
    "                       orders=('order_id', 'nunique'),\n",
    "                       total_sales=('sales', 'sum'),\n",
    "                       avg_sales=('sales', 'mean'),\n",
    "                       total_profit=('profit', 'sum'),\n",
    "                       avg_profit=('profit', 'mean'),\n",
    "                       total_products=('n_products', 'sum'),\n",
    "                       avg_products=('n_products', 'mean'),\n",
    "                       avg_shipping_cost=('shipping_cost', 'mean'),\n",
    "                       avg_discount=('avg_discount', 'mean'),\n",
    "                       profitability=('profitable', 'mean'),\n",
    "                       delivery_on_time_rate=('delivery_on_time', 'mean'),\n",
    "                       avg_days_to_ship=('days_to_ship', 'mean'),\n",
    "                       avg_delivery_time=('delivery_time', 'mean'),\n",
    "                       recency=('order_date', lambda date: (CURRENT_DATE - date.max()).days)   \n",
    "                   )\n",
    ")\n",
    "df_customers = df_customers.merge(df_churn, how='left', on='customer_id')\n",
    "df_customers['is_churn'].fillna(True, inplace=True)\n",
    "df_customers.dropna(inplace=True)\n",
    "df_customers.head()"
   ]
  },
  {
   "cell_type": "code",
   "execution_count": 7,
   "id": "8060144d",
   "metadata": {},
   "outputs": [
    {
     "data": {
      "text/plain": [
       "0.1429483088704531"
      ]
     },
     "execution_count": 7,
     "metadata": {},
     "output_type": "execute_result"
    }
   ],
   "source": [
    "df_customers['is_churn'].mean()"
   ]
  },
  {
   "cell_type": "code",
   "execution_count": 8,
   "id": "849eedf9",
   "metadata": {},
   "outputs": [
    {
     "data": {
      "text/plain": [
       "(Timestamp('2020-07-15 00:00:00'),\n",
       " Timestamp('2022-07-03 00:00:00'),\n",
       " Timestamp('2019-01-01 00:00:00'),\n",
       " Timestamp('2022-12-31 00:00:00'))"
      ]
     },
     "execution_count": 8,
     "metadata": {},
     "output_type": "execute_result"
    }
   ],
   "source": [
    "# Training Data = 2 years of transactions... Date up until Jul/2022\n",
    "# ['is_churn'] column was created based on Jul/2022 until last day of Dec/2022\n",
    "df_aux['order_date'].min(), df_aux['order_date'].max(), df_orders_abt['order_date'].min(), df_orders_abt['order_date'].max()"
   ]
  },
  {
   "cell_type": "markdown",
   "id": "8a7b0bfc",
   "metadata": {},
   "source": [
    "## Feature Selection\n",
    "\n"
   ]
  },
  {
   "cell_type": "code",
   "execution_count": 9,
   "id": "2a99844c",
   "metadata": {},
   "outputs": [],
   "source": [
    "# df_customers.columns"
   ]
  },
  {
   "cell_type": "code",
   "execution_count": 10,
   "id": "cd41c89f",
   "metadata": {},
   "outputs": [],
   "source": [
    "response_variable = ['is_churn']\n",
    "features = ['orders', 'total_sales', 'avg_sales', 'total_profit', 'avg_profit',\n",
    "            'total_products', 'avg_products', 'avg_shipping_cost', 'avg_discount',\n",
    "            'profitability', 'delivery_on_time_rate', 'avg_days_to_ship',\n",
    "            'avg_delivery_time', 'recency']\n",
    "\n",
    "df_train = df_customers.copy()"
   ]
  },
  {
   "cell_type": "code",
   "execution_count": 11,
   "id": "d5540eb0",
   "metadata": {},
   "outputs": [
    {
     "data": {
      "image/png": "[encoded data removed]",
      "text/plain": [
       "<Figure size 2400x1200 with 2 Axes>"
      ]
     },
     "metadata": {},
     "output_type": "display_data"
    }
   ],
   "source": [
    "plt.figure(figsize=(24, 12))\n",
    "correlations = df_train[features].corr().abs().round(2)\n",
    "mask = np.triu(np.ones_like(correlations, dtype=bool))\n",
    "sns.heatmap(correlations, mask=mask, linewidths=1, annot=True, cmap=['#F2F2F0','#1F375D'], vmin=0.40) #vmax=-0.40\n",
    "plt.show()"
   ]
  },
  {
   "cell_type": "markdown",
   "id": "d3f89b63",
   "metadata": {},
   "source": [
    "## Preprocessing"
   ]
  },
  {
   "cell_type": "code",
   "execution_count": 12,
   "id": "bd4d76ea",
   "metadata": {},
   "outputs": [],
   "source": [
    "# min_max_scaler = MinMaxScaler()\n",
    "# df_train = min_max_scaler.fit_transform(df_train)"
   ]
  },
  {
   "cell_type": "code",
   "execution_count": 13,
   "id": "f36dc4a3",
   "metadata": {},
   "outputs": [],
   "source": [
    "# df_train = pd.DataFrame(min_max_scaler.fit_transform(df_train),\n",
    "#                         columns=features)"
   ]
  },
  {
   "cell_type": "markdown",
   "id": "8ea9df07",
   "metadata": {},
   "source": [
    "## Over Sampling"
   ]
  },
  {
   "cell_type": "code",
   "execution_count": 14,
   "id": "556b525b",
   "metadata": {},
   "outputs": [
    {
     "data": {
      "text/plain": [
       "0.2501395868230039"
      ]
     },
     "execution_count": 14,
     "metadata": {},
     "output_type": "execute_result"
    }
   ],
   "source": [
    "df_train = pd.concat([df_train, df_train.query(\"is_churn == True\")])\n",
    "df_train['is_churn'].mean()"
   ]
  },
  {
   "cell_type": "markdown",
   "id": "78738237",
   "metadata": {},
   "source": [
    "## Train Test Split"
   ]
  },
  {
   "cell_type": "code",
   "execution_count": 15,
   "id": "15c2c296",
   "metadata": {},
   "outputs": [],
   "source": [
    "X_train, X_test, y_train, y_test = train_test_split(df_train[features], df_train[response_variable],\n",
    "                                                    test_size=0.3, random_state=0)"
   ]
  },
  {
   "cell_type": "markdown",
   "id": "6dc72afa",
   "metadata": {},
   "source": [
    "## Random Forest"
   ]
  },
  {
   "cell_type": "code",
   "execution_count": 16,
   "id": "e3f4c06e",
   "metadata": {},
   "outputs": [
    {
     "name": "stderr",
     "output_type": "stream",
     "text": [
      "C:\\Users\\Paulo H Sabino\\AppData\\Local\\Temp\\ipykernel_13744\\245853324.py:2: DataConversionWarning: A column-vector y was passed when a 1d array was expected. Please change the shape of y to (n_samples,), for example using ravel().\n",
      "  random_forest_model.fit(X_train, y_train)\n"
     ]
    },
    {
     "name": "stdout",
     "output_type": "stream",
     "text": [
      "              precision    recall  f1-score   support\n",
      "\n",
      "       False       0.85      0.92      0.88       414\n",
      "        True       0.62      0.45      0.52       124\n",
      "\n",
      "    accuracy                           0.81       538\n",
      "   macro avg       0.74      0.68      0.70       538\n",
      "weighted avg       0.80      0.81      0.80       538\n",
      "\n"
     ]
    }
   ],
   "source": [
    "random_forest_model = RandomForestClassifier(n_estimators=500, min_samples_leaf=10, random_state=0)\n",
    "random_forest_model.fit(X_train, y_train)\n",
    "\n",
    "y_pred = random_forest_model.predict(X_test)\n",
    "print(classification_report(y_test, y_pred, zero_division=0))"
   ]
  },
  {
   "cell_type": "markdown",
   "id": "a91da902",
   "metadata": {},
   "source": [
    "## Feature Importances"
   ]
  },
  {
   "cell_type": "code",
   "execution_count": 17,
   "id": "df976e3c",
   "metadata": {},
   "outputs": [
    {
     "data": {
      "image/png": "[encoded data removed]",
      "text/plain": [
       "<Figure size 800x600 with 1 Axes>"
      ]
     },
     "metadata": {},
     "output_type": "display_data"
    }
   ],
   "source": [
    "feature_importances = pd.Series(random_forest_model.feature_importances_, index=features).sort_values(ascending=True)\n",
    "feature_importances.plot.barh(figsize=(8, 6));"
   ]
  },
  {
   "cell_type": "markdown",
   "id": "6608a74c",
   "metadata": {},
   "source": [
    "## Analysis"
   ]
  },
  {
   "cell_type": "code",
   "execution_count": 18,
   "id": "d683d8b7",
   "metadata": {},
   "outputs": [],
   "source": [
    "model = random_forest_model"
   ]
  },
  {
   "cell_type": "markdown",
   "id": "e849f5e8",
   "metadata": {},
   "source": [
    "## Confusion Matrix"
   ]
  },
  {
   "cell_type": "code",
   "execution_count": 19,
   "id": "889317b5",
   "metadata": {},
   "outputs": [
    {
     "data": {
      "image/png": "[encoded data removed]",
      "text/plain": [
       "<Figure size 1200x400 with 2 Axes>"
      ]
     },
     "metadata": {},
     "output_type": "display_data"
    }
   ],
   "source": [
    "cm = confusion_matrix(y_test, y_pred, labels=[False, True])\n",
    "ConfusionMatrixDisplay(confusion_matrix=cm, display_labels=['Not Churn', 'Churn']).plot()\n",
    "plt.show()"
   ]
  },
  {
   "cell_type": "markdown",
   "id": "7a7e2543",
   "metadata": {},
   "source": [
    "## Cross Valdiation"
   ]
  },
  {
   "cell_type": "code",
   "execution_count": 20,
   "id": "88e84df2",
   "metadata": {},
   "outputs": [
    {
     "name": "stdout",
     "output_type": "stream",
     "text": [
      "Precision: 0.7 +- 0.09\n",
      "Recall:    0.46 +- 0.1\n",
      "CPU times: total: 1min 11s\n",
      "Wall time: 1min 24s\n"
     ]
    }
   ],
   "source": [
    "%%time\n",
    "cv = cross_validate(model, df_train[features], df_train[response_variable].values.ravel(), cv=20, scoring=['precision','recall'])\n",
    "precision = round(cv['test_precision'].mean(), 2)\n",
    "precision_std = round(cv['test_precision'].std(), 2)\n",
    "recall = round(cv['test_recall'].mean(), 2)\n",
    "recall_worst = round(cv['test_recall'].min(), 2)\n",
    "recall_std = round(cv['test_recall'].std(), 2)\n",
    "print(f\"Precision: {precision} +- {precision_std}\")\n",
    "print(f\"Recall:    {recall} +- {recall_std}\")"
   ]
  },
  {
   "cell_type": "markdown",
   "id": "56c01b09",
   "metadata": {},
   "source": [
    "## Business Impact"
   ]
  },
  {
   "cell_type": "code",
   "execution_count": 21,
   "id": "9f043fcf",
   "metadata": {},
   "outputs": [
    {
     "name": "stdout",
     "output_type": "stream",
     "text": [
      "\n",
      "    With a 14.29% churn rate.\n",
      "    We expect that 224 customers will churn.\n",
      "    \n",
      "    The model is estimated to identify 46.0% of them.\n",
      "    With a 70.0% precision. Witch means: For each 100\n",
      "    churn alerts the model creates 70 of them will, in fact \n",
      "    churn.\n",
      "    \n",
      "    Estimated Annual Retained Revenue is $ 183237.5\n",
      "            \n",
      "\n"
     ]
    }
   ],
   "source": [
    "churn_rate = df_customers.is_churn.mean().round(4)\n",
    "number_of_customers = len(df_customers)\n",
    "numer_of_churned_customers = round(number_of_customers*churn_rate)\n",
    "avg_churn_ticket = df_customers.query(\"is_churn == True\")['avg_sales'].mean()\n",
    "avg_number_of_orders = df_customers.query(\"is_churn == True\")['orders'].mean()\n",
    "\n",
    "print(f\"\"\"\n",
    "    With a {churn_rate * 100}% churn rate.\n",
    "    We expect that {numer_of_churned_customers} customers will churn.\n",
    "    \n",
    "    The model is estimated to identify {round(recall*100, 2)}% of them.\n",
    "    With a {round(precision*100, 2)}% precision. Witch means: For each 100\n",
    "    churn alerts the model creates {round(precision*100)} of them will, in fact \n",
    "    churn.\n",
    "    \n",
    "    Estimated Annual Retained Revenue is $ {round(avg_churn_ticket*numer_of_churned_customers*avg_number_of_orders, 2)/2}\n",
    "            \n",
    "\"\"\")\n",
    "# Estimated Annual Retained Revenue divided by 2 because we are using 2 years of data"
   ]
  },
  {
   "cell_type": "markdown",
   "id": "8f84b8cb",
   "metadata": {},
   "source": [
    "## Next Steps\n",
    "\n",
    "Calculate Monthly Churn Rate and use the average as the base churn rate in the Business Impact step\n",
    "\n",
    "Try other models\n",
    "\n",
    "Create new features (avg_sales this month, 2 months ago, 3 months ago... percentual change in sales between months)"
   ]
  },
  {
   "cell_type": "markdown",
   "id": "f284c71d",
   "metadata": {},
   "source": [
    "## 2023 Prediction\n",
    "\n",
    "Ideally We would save the model, create a script to preprocess the data and then feed this current data to the model. Automating this process.\n",
    "\n",
    "I'll do this here instead."
   ]
  },
  {
   "cell_type": "code",
   "execution_count": 22,
   "id": "9c5194ac",
   "metadata": {},
   "outputs": [
    {
     "data": {
      "text/html": [
       "<div>\n",
       "<style scoped>\n",
       "    .dataframe tbody tr th:only-of-type {\n",
       "        vertical-align: middle;\n",
       "    }\n",
       "\n",
       "    .dataframe tbody tr th {\n",
       "        vertical-align: top;\n",
       "    }\n",
       "\n",
       "    .dataframe thead th {\n",
       "        text-align: right;\n",
       "    }\n",
       "</style>\n",
       "<table border=\"1\" class=\"dataframe\">\n",
       "  <thead>\n",
       "    <tr style=\"text-align: right;\">\n",
       "      <th></th>\n",
       "      <th>orders</th>\n",
       "      <th>total_sales</th>\n",
       "      <th>avg_sales</th>\n",
       "      <th>total_profit</th>\n",
       "      <th>avg_profit</th>\n",
       "      <th>total_products</th>\n",
       "      <th>avg_products</th>\n",
       "      <th>avg_shipping_cost</th>\n",
       "      <th>avg_discount</th>\n",
       "      <th>profitability</th>\n",
       "      <th>delivery_on_time_rate</th>\n",
       "      <th>avg_days_to_ship</th>\n",
       "      <th>avg_delivery_time</th>\n",
       "      <th>recency</th>\n",
       "    </tr>\n",
       "    <tr>\n",
       "      <th>customer_id</th>\n",
       "      <th></th>\n",
       "      <th></th>\n",
       "      <th></th>\n",
       "      <th></th>\n",
       "      <th></th>\n",
       "      <th></th>\n",
       "      <th></th>\n",
       "      <th></th>\n",
       "      <th></th>\n",
       "      <th></th>\n",
       "      <th></th>\n",
       "      <th></th>\n",
       "      <th></th>\n",
       "      <th></th>\n",
       "    </tr>\n",
       "  </thead>\n",
       "  <tbody>\n",
       "    <tr>\n",
       "      <th>AA-10315</th>\n",
       "      <td>13</td>\n",
       "      <td>23999.143019</td>\n",
       "      <td>1846.087925</td>\n",
       "      <td>94.35740</td>\n",
       "      <td>7.258262</td>\n",
       "      <td>88</td>\n",
       "      <td>6.769231</td>\n",
       "      <td>69.375385</td>\n",
       "      <td>0.100000</td>\n",
       "      <td>0.769231</td>\n",
       "      <td>0.615385</td>\n",
       "      <td>16.181818</td>\n",
       "      <td>22.090909</td>\n",
       "      <td>8</td>\n",
       "    </tr>\n",
       "    <tr>\n",
       "      <th>AA-10375</th>\n",
       "      <td>13</td>\n",
       "      <td>8337.935422</td>\n",
       "      <td>641.379648</td>\n",
       "      <td>96.87630</td>\n",
       "      <td>7.452023</td>\n",
       "      <td>98</td>\n",
       "      <td>7.538462</td>\n",
       "      <td>43.099231</td>\n",
       "      <td>0.195513</td>\n",
       "      <td>0.615385</td>\n",
       "      <td>0.846154</td>\n",
       "      <td>14.833333</td>\n",
       "      <td>18.750000</td>\n",
       "      <td>6</td>\n",
       "    </tr>\n",
       "    <tr>\n",
       "      <th>AA-10480</th>\n",
       "      <td>9</td>\n",
       "      <td>67616.977931</td>\n",
       "      <td>7512.997548</td>\n",
       "      <td>1030.97680</td>\n",
       "      <td>114.552978</td>\n",
       "      <td>81</td>\n",
       "      <td>9.000000</td>\n",
       "      <td>119.530000</td>\n",
       "      <td>0.146667</td>\n",
       "      <td>0.666667</td>\n",
       "      <td>1.000000</td>\n",
       "      <td>11.000000</td>\n",
       "      <td>15.444444</td>\n",
       "      <td>117</td>\n",
       "    </tr>\n",
       "    <tr>\n",
       "      <th>AA-10645</th>\n",
       "      <td>21</td>\n",
       "      <td>293699.363633</td>\n",
       "      <td>13985.683983</td>\n",
       "      <td>2281.07734</td>\n",
       "      <td>108.622730</td>\n",
       "      <td>157</td>\n",
       "      <td>7.476190</td>\n",
       "      <td>47.246667</td>\n",
       "      <td>0.129341</td>\n",
       "      <td>0.857143</td>\n",
       "      <td>1.000000</td>\n",
       "      <td>12.333333</td>\n",
       "      <td>19.714286</td>\n",
       "      <td>26</td>\n",
       "    </tr>\n",
       "    <tr>\n",
       "      <th>AA-315</th>\n",
       "      <td>6</td>\n",
       "      <td>2213.029796</td>\n",
       "      <td>368.838299</td>\n",
       "      <td>541.41600</td>\n",
       "      <td>90.236000</td>\n",
       "      <td>19</td>\n",
       "      <td>3.166667</td>\n",
       "      <td>35.848333</td>\n",
       "      <td>0.200000</td>\n",
       "      <td>0.666667</td>\n",
       "      <td>1.000000</td>\n",
       "      <td>13.833333</td>\n",
       "      <td>18.000000</td>\n",
       "      <td>2</td>\n",
       "    </tr>\n",
       "  </tbody>\n",
       "</table>\n",
       "</div>"
      ],
      "text/plain": [
       "             orders    total_sales     avg_sales  total_profit  avg_profit  \\\n",
       "customer_id                                                                  \n",
       "AA-10315         13   23999.143019   1846.087925      94.35740    7.258262   \n",
       "AA-10375         13    8337.935422    641.379648      96.87630    7.452023   \n",
       "AA-10480          9   67616.977931   7512.997548    1030.97680  114.552978   \n",
       "AA-10645         21  293699.363633  13985.683983    2281.07734  108.622730   \n",
       "AA-315            6    2213.029796    368.838299     541.41600   90.236000   \n",
       "\n",
       "             total_products  avg_products  avg_shipping_cost  avg_discount  \\\n",
       "customer_id                                                                  \n",
       "AA-10315                 88      6.769231          69.375385      0.100000   \n",
       "AA-10375                 98      7.538462          43.099231      0.195513   \n",
       "AA-10480                 81      9.000000         119.530000      0.146667   \n",
       "AA-10645                157      7.476190          47.246667      0.129341   \n",
       "AA-315                   19      3.166667          35.848333      0.200000   \n",
       "\n",
       "             profitability  delivery_on_time_rate  avg_days_to_ship  \\\n",
       "customer_id                                                           \n",
       "AA-10315          0.769231               0.615385         16.181818   \n",
       "AA-10375          0.615385               0.846154         14.833333   \n",
       "AA-10480          0.666667               1.000000         11.000000   \n",
       "AA-10645          0.857143               1.000000         12.333333   \n",
       "AA-315            0.666667               1.000000         13.833333   \n",
       "\n",
       "             avg_delivery_time  recency  \n",
       "customer_id                              \n",
       "AA-10315             22.090909        8  \n",
       "AA-10375             18.750000        6  \n",
       "AA-10480             15.444444      117  \n",
       "AA-10645             19.714286       26  \n",
       "AA-315               18.000000        2  "
      ]
     },
     "execution_count": 22,
     "metadata": {},
     "output_type": "execute_result"
    }
   ],
   "source": [
    "df_aux = df_orders_abt.query(\"recency < 720\")\n",
    "CURRENT_DATE = df_aux['order_date'].max()\n",
    "df_customers = (df_aux\n",
    "                   .groupby(\"customer_id\")\n",
    "                   .agg(\n",
    "                       orders=('order_id', 'nunique'),\n",
    "                       total_sales=('sales', 'sum'),\n",
    "                       avg_sales=('sales', 'mean'),\n",
    "                       total_profit=('profit', 'sum'),\n",
    "                       avg_profit=('profit', 'mean'),\n",
    "                       total_products=('n_products', 'sum'),\n",
    "                       avg_products=('n_products', 'mean'),\n",
    "                       avg_shipping_cost=('shipping_cost', 'mean'),\n",
    "                       avg_discount=('avg_discount', 'mean'),\n",
    "                       profitability=('profitable', 'mean'),\n",
    "                       delivery_on_time_rate=('delivery_on_time', 'mean'),\n",
    "                       avg_days_to_ship=('days_to_ship', 'mean'),\n",
    "                       avg_delivery_time=('delivery_time', 'mean'),\n",
    "                       recency=('order_date', lambda date: (CURRENT_DATE - date.max()).days)   \n",
    "                   )\n",
    ")\n",
    "df_customers.dropna(inplace=True)\n",
    "df_customers.head()"
   ]
  },
  {
   "cell_type": "code",
   "execution_count": 23,
   "id": "c61df797",
   "metadata": {},
   "outputs": [
    {
     "data": {
      "text/html": [
       "<div>\n",
       "<style scoped>\n",
       "    .dataframe tbody tr th:only-of-type {\n",
       "        vertical-align: middle;\n",
       "    }\n",
       "\n",
       "    .dataframe tbody tr th {\n",
       "        vertical-align: top;\n",
       "    }\n",
       "\n",
       "    .dataframe thead th {\n",
       "        text-align: right;\n",
       "    }\n",
       "</style>\n",
       "<table border=\"1\" class=\"dataframe\">\n",
       "  <thead>\n",
       "    <tr style=\"text-align: right;\">\n",
       "      <th></th>\n",
       "      <th>customer_id</th>\n",
       "      <th>will_churn</th>\n",
       "      <th>churn_probability</th>\n",
       "    </tr>\n",
       "  </thead>\n",
       "  <tbody>\n",
       "    <tr>\n",
       "      <th>0</th>\n",
       "      <td>AA-10315</td>\n",
       "      <td>False</td>\n",
       "      <td>0.007965</td>\n",
       "    </tr>\n",
       "    <tr>\n",
       "      <th>1</th>\n",
       "      <td>AA-10375</td>\n",
       "      <td>False</td>\n",
       "      <td>0.060931</td>\n",
       "    </tr>\n",
       "    <tr>\n",
       "      <th>2</th>\n",
       "      <td>AA-10480</td>\n",
       "      <td>False</td>\n",
       "      <td>0.015333</td>\n",
       "    </tr>\n",
       "    <tr>\n",
       "      <th>3</th>\n",
       "      <td>AA-10645</td>\n",
       "      <td>False</td>\n",
       "      <td>0.001445</td>\n",
       "    </tr>\n",
       "    <tr>\n",
       "      <th>4</th>\n",
       "      <td>AA-315</td>\n",
       "      <td>False</td>\n",
       "      <td>0.475164</td>\n",
       "    </tr>\n",
       "  </tbody>\n",
       "</table>\n",
       "</div>"
      ],
      "text/plain": [
       "  customer_id  will_churn  churn_probability\n",
       "0    AA-10315       False           0.007965\n",
       "1    AA-10375       False           0.060931\n",
       "2    AA-10480       False           0.015333\n",
       "3    AA-10645       False           0.001445\n",
       "4      AA-315       False           0.475164"
      ]
     },
     "execution_count": 23,
     "metadata": {},
     "output_type": "execute_result"
    }
   ],
   "source": [
    "df_customers['will_churn'] = model.predict(df_customers[features])\n",
    "df_customers['churn_probability'] = model.predict_proba(df_customers[features])[:, [1]]\n",
    "\n",
    "# df_customers.reset_index()[['customer_id', 'will_churn', 'churn_probability']].to_csv(\"../../data/customer_churn/churn_proba.csv\", index=False)\n",
    "df_customers.reset_index()[['customer_id', 'will_churn', 'churn_probability']].head()"
   ]
  },
  {
   "cell_type": "code",
   "execution_count": 24,
   "id": "778bd2df",
   "metadata": {},
   "outputs": [
    {
     "data": {
      "text/plain": [
       "will_churn\n",
       "False    1406\n",
       "True      174\n",
       "Name: count, dtype: int64"
      ]
     },
     "execution_count": 24,
     "metadata": {},
     "output_type": "execute_result"
    }
   ],
   "source": [
    "df_customers['will_churn'].value_counts()"
   ]
  },
  {
   "cell_type": "code",
   "execution_count": 25,
   "id": "0390edea",
   "metadata": {},
   "outputs": [
    {
     "data": {
      "text/html": [
       "<div>\n",
       "<style scoped>\n",
       "    .dataframe tbody tr th:only-of-type {\n",
       "        vertical-align: middle;\n",
       "    }\n",
       "\n",
       "    .dataframe tbody tr th {\n",
       "        vertical-align: top;\n",
       "    }\n",
       "\n",
       "    .dataframe thead th {\n",
       "        text-align: right;\n",
       "    }\n",
       "</style>\n",
       "<table border=\"1\" class=\"dataframe\">\n",
       "  <thead>\n",
       "    <tr style=\"text-align: right;\">\n",
       "      <th></th>\n",
       "      <th>orders</th>\n",
       "      <th>total_sales</th>\n",
       "      <th>avg_sales</th>\n",
       "      <th>total_profit</th>\n",
       "      <th>avg_profit</th>\n",
       "      <th>total_products</th>\n",
       "      <th>avg_products</th>\n",
       "      <th>avg_shipping_cost</th>\n",
       "      <th>avg_discount</th>\n",
       "      <th>profitability</th>\n",
       "      <th>delivery_on_time_rate</th>\n",
       "      <th>avg_days_to_ship</th>\n",
       "      <th>avg_delivery_time</th>\n",
       "      <th>recency</th>\n",
       "      <th>churn_probability</th>\n",
       "    </tr>\n",
       "    <tr>\n",
       "      <th>will_churn</th>\n",
       "      <th></th>\n",
       "      <th></th>\n",
       "      <th></th>\n",
       "      <th></th>\n",
       "      <th></th>\n",
       "      <th></th>\n",
       "      <th></th>\n",
       "      <th></th>\n",
       "      <th></th>\n",
       "      <th></th>\n",
       "      <th></th>\n",
       "      <th></th>\n",
       "      <th></th>\n",
       "      <th></th>\n",
       "      <th></th>\n",
       "    </tr>\n",
       "  </thead>\n",
       "  <tbody>\n",
       "    <tr>\n",
       "      <th>False</th>\n",
       "      <td>10.743243</td>\n",
       "      <td>58396.162649</td>\n",
       "      <td>3856.486166</td>\n",
       "      <td>641.462280</td>\n",
       "      <td>56.418139</td>\n",
       "      <td>75.182077</td>\n",
       "      <td>6.275376</td>\n",
       "      <td>48.252320</td>\n",
       "      <td>0.131130</td>\n",
       "      <td>0.770911</td>\n",
       "      <td>0.907634</td>\n",
       "      <td>13.286991</td>\n",
       "      <td>18.397050</td>\n",
       "      <td>66.843528</td>\n",
       "      <td>0.174257</td>\n",
       "    </tr>\n",
       "    <tr>\n",
       "      <th>True</th>\n",
       "      <td>2.850575</td>\n",
       "      <td>768.290207</td>\n",
       "      <td>265.033317</td>\n",
       "      <td>0.310034</td>\n",
       "      <td>-7.409582</td>\n",
       "      <td>11.448276</td>\n",
       "      <td>4.047806</td>\n",
       "      <td>32.594275</td>\n",
       "      <td>0.318531</td>\n",
       "      <td>0.509182</td>\n",
       "      <td>0.946237</td>\n",
       "      <td>13.451733</td>\n",
       "      <td>18.413556</td>\n",
       "      <td>217.729885</td>\n",
       "      <td>0.590300</td>\n",
       "    </tr>\n",
       "  </tbody>\n",
       "</table>\n",
       "</div>"
      ],
      "text/plain": [
       "               orders   total_sales    avg_sales  total_profit  avg_profit  \\\n",
       "will_churn                                                                   \n",
       "False       10.743243  58396.162649  3856.486166    641.462280   56.418139   \n",
       "True         2.850575    768.290207   265.033317      0.310034   -7.409582   \n",
       "\n",
       "            total_products  avg_products  avg_shipping_cost  avg_discount  \\\n",
       "will_churn                                                                  \n",
       "False            75.182077      6.275376          48.252320      0.131130   \n",
       "True             11.448276      4.047806          32.594275      0.318531   \n",
       "\n",
       "            profitability  delivery_on_time_rate  avg_days_to_ship  \\\n",
       "will_churn                                                           \n",
       "False            0.770911               0.907634         13.286991   \n",
       "True             0.509182               0.946237         13.451733   \n",
       "\n",
       "            avg_delivery_time     recency  churn_probability  \n",
       "will_churn                                                    \n",
       "False               18.397050   66.843528           0.174257  \n",
       "True                18.413556  217.729885           0.590300  "
      ]
     },
     "execution_count": 25,
     "metadata": {},
     "output_type": "execute_result"
    }
   ],
   "source": [
    "df_customers.groupby('will_churn').mean()"
   ]
  },
  {
   "cell_type": "markdown",
   "id": "5632c827",
   "metadata": {},
   "source": [
    "Survival Analysis"
   ]
  }
 ],
 "metadata": {
  "kernelspec": {
   "display_name": "Python 3 (ipykernel)",
   "language": "python",
   "name": "python3"
  },
  "language_info": {
   "codemirror_mode": {
    "name": "ipython",
    "version": 3
   },
   "file_extension": ".py",
   "mimetype": "text/x-python",
   "name": "python",
   "nbconvert_exporter": "python",
   "pygments_lexer": "ipython3",
   "version": "3.11.4"
  }
 },
 "nbformat": 4,
 "nbformat_minor": 5
}
